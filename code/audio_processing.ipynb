{
  "nbformat": 4,
  "nbformat_minor": 0,
  "metadata": {
    "colab": {
      "provenance": []
    },
    "kernelspec": {
      "name": "python3",
      "display_name": "Python 3"
    },
    "language_info": {
      "name": "python"
    },
    "gpuClass": "standard"
  },
  "cells": [
    {
      "cell_type": "code",
      "execution_count": null,
      "metadata": {
        "id": "HiU7Znb6TlsI",
        "colab": {
          "base_uri": "https://localhost:8080/"
        },
        "outputId": "5fac182a-8bdd-4f80-fc5d-5fac04318293"
      },
      "outputs": [
        {
          "output_type": "stream",
          "name": "stdout",
          "text": [
            "Drive already mounted at /content/drive; to attempt to forcibly remount, call drive.mount(\"/content/drive\", force_remount=True).\n"
          ]
        }
      ],
      "source": [
        "# Mount Google Drive\n",
        "from google.colab import drive\n",
        "drive.mount('/content/drive')"
      ]
    },
    {
      "cell_type": "code",
      "source": [
        "path = \"/content/drive/My Drive/Colab Notebooks/audio/wavfiles/pitt/\"  # Update if needed"
      ],
      "metadata": {
        "id": "nY_awHUEtGix"
      },
      "execution_count": null,
      "outputs": []
    },
    {
      "cell_type": "code",
      "execution_count": null,
      "metadata": {
        "colab": {
          "base_uri": "https://localhost:8080/"
        },
        "id": "lkDaf1TfNatw",
        "outputId": "ee39a665-47df-43cd-fcab-30d29add4cad"
      },
      "outputs": [
        {
          "output_type": "stream",
          "name": "stdout",
          "text": [
            "/content/drive/My Drive/Colab Notebooks/audio\n"
          ]
        }
      ],
      "source": [
        "%cd /content/drive/My\\ Drive/Colab\\ Notebooks/audio/"
      ]
    },
    {
      "cell_type": "code",
      "source": [
        "def save_file(df, name):\n",
        "    # path='wavfiles/a/'\n",
        "    # df.to_pickle( name + '.pickle')\n",
        "    df.to_csv( name + '.csv')\n",
        "    print('done')"
      ],
      "metadata": {
        "id": "7HZI4Q0kLIK8"
      },
      "execution_count": null,
      "outputs": []
    },
    {
      "cell_type": "code",
      "source": [
        "!pip install pydub\n"
      ],
      "metadata": {
        "colab": {
          "base_uri": "https://localhost:8080/"
        },
        "id": "QemdqfCJOUhV",
        "outputId": "4e290253-ca25-43a1-c8f8-3dd47f608850"
      },
      "execution_count": null,
      "outputs": [
        {
          "output_type": "stream",
          "name": "stdout",
          "text": [
            "Looking in indexes: https://pypi.org/simple, https://us-python.pkg.dev/colab-wheels/public/simple/\n",
            "Collecting pydub\n",
            "  Downloading pydub-0.25.1-py2.py3-none-any.whl (32 kB)\n",
            "Installing collected packages: pydub\n",
            "Successfully installed pydub-0.25.1\n"
          ]
        }
      ]
    },
    {
      "cell_type": "markdown",
      "source": [
        "# **get audio file duration**"
      ],
      "metadata": {
        "id": "px6dArRdfK7a"
      }
    },
    {
      "cell_type": "code",
      "source": [
        "import librosa\n",
        "dur=librosa.get_duration(filename=path+'Dementia'+\"/\"+'714-0.wav')"
      ],
      "metadata": {
        "colab": {
          "base_uri": "https://localhost:8080/"
        },
        "id": "pGKeLZzDk5-d",
        "outputId": "0ac86c14-5f60-464d-f6a9-893f778c221d"
      },
      "execution_count": null,
      "outputs": [
        {
          "output_type": "stream",
          "name": "stderr",
          "text": [
            "<ipython-input-16-d238ee15a403>:2: FutureWarning: get_duration() keyword argument 'filename' has been renamed to 'path' in version 0.10.0.\n",
            "\tThis alias will be removed in version 1.0.\n",
            "  dur=librosa.get_duration(filename=path+'Dementia'+\"/\"+'714-0.wav')\n"
          ]
        }
      ]
    },
    {
      "cell_type": "code",
      "source": [
        "print(dur)"
      ],
      "metadata": {
        "colab": {
          "base_uri": "https://localhost:8080/"
        },
        "id": "tesUcTRSmObi",
        "outputId": "601f3723-665e-44e3-82f4-7bab752257c5"
      },
      "execution_count": null,
      "outputs": [
        {
          "output_type": "stream",
          "name": "stdout",
          "text": [
            "50.60498866213152\n"
          ]
        }
      ]
    },
    {
      "cell_type": "code",
      "source": [
        "import librosa\n",
        "import os\n",
        "import pandas as pd\n",
        "import numpy as np\n",
        "# path= \"/content/drive/My\\ Drive/Colab\\ Notebooks/audio/\"\n",
        "# audio=pd.read_csv('pitt_audio.csv')\n",
        "# segment=pd.read_csv('pitt_segment.csv')\n",
        "\n",
        "# print(files1)\n",
        "# files1=list(files1)\n",
        "# df=None\n",
        "# # df7=pd.read_csv(\"ccc_ling_audio.csv\")\n",
        "# df8=pd.read_csv(\"ccc_files.csv\")\n",
        "# print(len(include))\n",
        "# result={'filename':list(include)}\n",
        "# save_file(pd.DataFrame(include),'ccc_include_wav_file')\n",
        "# for folder in [ 'Dementia','Control']:\n",
        "# print(folder)\n",
        "# wav_include=pd.read_csv('wav_include.csv')\n",
        "# exclude=audio['filename'].values.tolist()\n",
        "# include=['Ascall_Merton_06.wav','Ascall_Merton_03.wav','Tichenor_Payne_001.wav']\n",
        "# include=list(set(segment['filename'])-set(audio['filename']))\n",
        "# print(len(include))\n",
        "# print(include)\n",
        "result={}\n",
        "for folder in ['Dementia','Control']:\n",
        "  audio=None\n",
        "\n",
        "  if folder not in result:\n",
        "    result[folder]=[]\n",
        "    print(path+folder+\"/\")\n",
        "  for (root, dirs, file) in os.walk(path+folder+\"/\"):\n",
        "    # print(root)\n",
        "    # print(dirs)\n",
        "    # print(file)\n",
        "    for filename in file:\n",
        "      print(filename)\n",
        "      if  filename.endswith('.wav'):\n",
        "          result[folder].append(librosa.get_duration(filename=root+filename))\n",
        "  print('%s %d recording avrg dur(sec)%.3f std %.3f'%(folder,len(result[folder]),np.mean(np.array(result[folder])),np.std(np.array(result[folder]))))\n",
        "\n",
        "  save_file(pd.DataFrame(result[folder]),folder+'_time_duration')"
      ],
      "metadata": {
        "id": "xjdGf8e2VG3Y",
        "colab": {
          "base_uri": "https://localhost:8080/"
        },
        "outputId": "8ffd6bd4-d00e-4cdc-b0d8-b30d87944ce7"
      },
      "execution_count": null,
      "outputs": [
        {
          "output_type": "stream",
          "name": "stdout",
          "text": [
            "/content/drive/My Drive/Colab Notebooks/audio/wavfiles/pitt/Dementia/\n",
            "120-4.wav\n"
          ]
        },
        {
          "output_type": "stream",
          "name": "stderr",
          "text": [
            "<ipython-input-20-fa738c1d2eb9>:39: FutureWarning: get_duration() keyword argument 'filename' has been renamed to 'path' in version 0.10.0.\n",
            "\tThis alias will be removed in version 1.0.\n",
            "  result[folder].append(librosa.get_duration(filename=root+filename))\n"
          ]
        },
        {
          "output_type": "stream",
          "name": "stdout",
          "text": [
            "120-3.wav\n",
            "120-2.wav\n",
            "120-0.wav\n",
            "097-1.wav\n",
            "091-2.wav\n",
            "010-4.wav\n",
            "091-0.wav\n",
            "076-4.wav\n",
            "010-2.wav\n",
            "061-1.wav\n",
            "058-4.wav\n",
            "058-3.wav\n",
            "010-1.wav\n",
            "058-0.wav\n",
            "051-1.wav\n",
            "051-0.wav\n",
            "050-0.wav\n",
            "010-0.wav\n",
            "049-1.wav\n",
            "046-0.wav\n",
            "033-3.wav\n",
            "005-0.wav\n",
            "033-2.wav\n",
            "033-0.wav\n",
            "003-0.wav\n",
            "016-3.wav\n",
            "016-1.wav\n",
            "016-0.wav\n",
            "010-3.wav\n",
            "007-3.wav\n",
            "007-1.wav\n",
            "005-2.wav\n",
            "001-2.wav\n",
            "001-0.wav\n",
            "282-1.wav\n",
            "279-1.wav\n",
            "029-1.wav\n",
            "271-2.wav\n",
            "270-1.wav\n",
            "260-1.wav\n",
            "029-0.wav\n",
            "252-2.wav\n",
            "252-0.wav\n",
            "234-0.wav\n",
            "226-0.wav\n",
            "221-3.wav\n",
            "220-1.wav\n",
            "024-2.wav\n",
            "216-1.wav\n",
            "216-0.wav\n",
            "212-1.wav\n",
            "024-1.wav\n",
            "184-2.wav\n",
            "023-2.wav\n",
            "184-0.wav\n",
            "183-3.wav\n",
            "183-2.wav\n",
            "183-1.wav\n",
            "183-0.wav\n",
            "181-2.wav\n",
            "172-3.wav\n",
            "023-0.wav\n",
            "172-2.wav\n",
            "134-3.wav\n",
            "018-0.wav\n",
            "164-1.wav\n",
            "134-0.wav\n",
            "168-0.wav\n",
            "164-2.wav\n",
            "157-2.wav\n",
            "144-0.wav\n",
            "134-2.wav\n",
            "016-4.wav\n",
            "134-1.wav\n",
            "127-0.wav\n",
            "014-2.wav\n",
            "049-0.wav\n",
            "488-1.wav\n",
            "046-2.wav\n",
            "488-0.wav\n",
            "471-0.wav\n",
            "465-0.wav\n",
            "458-0.wav\n",
            "450-1.wav\n",
            "043-0.wav\n",
            "381-1.wav\n",
            "381-0.wav\n",
            "368-0.wav\n",
            "362-1.wav\n",
            "039-0.wav\n",
            "362-0.wav\n",
            "360-0.wav\n",
            "358-0.wav\n",
            "035-1.wav\n",
            "357-0.wav\n",
            "356-1.wav\n",
            "355-1.wav\n",
            "355-0.wav\n",
            "035-0.wav\n",
            "354-0.wav\n",
            "349-1.wav\n",
            "346-0.wav\n",
            "033-4.wav\n",
            "344-0.wav\n",
            "342-1.wav\n",
            "033-1.wav\n",
            "339-0.wav\n",
            "338-0.wav\n",
            "337-0.wav\n",
            "325-1.wav\n",
            "325-0.wav\n",
            "311-0.wav\n",
            "293-1.wav\n",
            "291-2.wav\n",
            "030-1.wav\n",
            "291-1.wav\n",
            "289-2.wav\n",
            "283-1.wav\n",
            "283-0.wav\n",
            "282-2.wav\n",
            "030-0.wav\n",
            "702-0.wav\n",
            "065-0.wav\n",
            "689-0.wav\n",
            "676-0.wav\n",
            "061-0.wav\n",
            "674-0.wav\n",
            "672-0.wav\n",
            "663-0.wav\n",
            "660-0.wav\n",
            "657-0.wav\n",
            "058-1.wav\n",
            "656-0.wav\n",
            "648-0.wav\n",
            "642-0.wav\n",
            "057-2.wav\n",
            "640-0.wav\n",
            "639-0.wav\n",
            "636-0.wav\n",
            "624-0.wav\n",
            "615-0.wav\n",
            "607-0.wav\n",
            "057-1.wav\n",
            "601-0.wav\n",
            "598-0.wav\n",
            "595-0.wav\n",
            "594-0.wav\n",
            "057-0.wav\n",
            "580-0.wav\n",
            "579-0.wav\n",
            "578-0.wav\n",
            "573-0.wav\n",
            "563-0.wav\n",
            "562-0.wav\n",
            "053-1.wav\n",
            "559-0.wav\n",
            "551-0.wav\n",
            "544-1.wav\n",
            "544-0.wav\n",
            "051-3.wav\n",
            "539-0.wav\n",
            "529-0.wav\n",
            "528-0.wav\n",
            "527-1.wav\n",
            "051-2.wav\n",
            "515-1.wav\n",
            "508-1.wav\n",
            "508-0.wav\n",
            "504-0.wav\n",
            "497-1.wav\n",
            "497-0.wav\n",
            "087-1.wav\n",
            "078-1.wav\n",
            "078-0.wav\n",
            "076-2.wav\n",
            "076-0.wav\n",
            "070-2.wav\n",
            "067-2.wav\n",
            "067-1.wav\n",
            "066-0.wav\n",
            "065-2.wav\n",
            "065-1.wav\n",
            "707-0.wav\n",
            "704-0.wav\n",
            "703-0.wav\n",
            "148-0.wav\n",
            "144-1.wav\n",
            "125-0.wav\n",
            "122-1.wav\n",
            "122-0.wav\n",
            "120-1.wav\n",
            "094-3.wav\n",
            "094-2.wav\n",
            "094-1.wav\n",
            "091-1.wav\n",
            "089-0.wav\n",
            "178-1.wav\n",
            "178-0.wav\n",
            "173-1.wav\n",
            "172-1.wav\n",
            "168-1.wav\n",
            "164-3.wav\n",
            "157-1.wav\n",
            "157-0.wav\n",
            "154-1.wav\n",
            "154-0.wav\n",
            "212-0.wav\n",
            "207-0.wav\n",
            "206-0.wav\n",
            "205-1.wav\n",
            "203-1.wav\n",
            "203-0.wav\n",
            "184-1.wav\n",
            "181-3.wav\n",
            "181-1.wav\n",
            "181-0.wav\n",
            "221-1.wav\n",
            "221-0.wav\n",
            "220-0.wav\n",
            "218-1.wav\n",
            "218-0.wav\n",
            "213-3.wav\n",
            "213-2.wav\n",
            "213-1.wav\n",
            "212-3.wav\n",
            "212-2.wav\n",
            "238-0.wav\n",
            "237-2.wav\n",
            "237-1.wav\n",
            "236-0.wav\n",
            "235-2.wav\n",
            "235-0.wav\n",
            "223-1.wav\n",
            "223-0.wav\n",
            "222-1.wav\n",
            "222-0.wav\n",
            "221-2.wav\n",
            "270-0.wav\n",
            "269-1.wav\n",
            "269-0.wav\n",
            "268-0.wav\n",
            "264-0.wav\n",
            "260-2.wav\n",
            "257-2.wav\n",
            "257-0.wav\n",
            "252-1.wav\n",
            "247-0.wav\n",
            "244-0.wav\n",
            "334-1.wav\n",
            "334-0.wav\n",
            "329-0.wav\n",
            "319-0.wav\n",
            "310-0.wav\n",
            "306-0.wav\n",
            "282-0.wav\n",
            "279-0.wav\n",
            "276-0.wav\n",
            "270-2.wav\n",
            "369-0.wav\n",
            "361-0.wav\n",
            "358-1.wav\n",
            "356-0.wav\n",
            "350-1.wav\n",
            "350-0.wav\n",
            "349-0.wav\n",
            "344-2.wav\n",
            "343-0.wav\n",
            "342-0.wav\n",
            "341-0.wav\n",
            "493-0.wav\n",
            "492-0.wav\n",
            "476-0.wav\n",
            "474-0.wav\n",
            "472-0.wav\n",
            "470-1.wav\n",
            "468-0.wav\n",
            "466-1.wav\n",
            "466-0.wav\n",
            "461-0.wav\n",
            "450-0.wav\n",
            "592-0.wav\n",
            "591-0.wav\n",
            "587-0.wav\n",
            "585-0.wav\n",
            "581-0.wav\n",
            "530-0.wav\n",
            "527-0.wav\n",
            "526-1.wav\n",
            "511-0.wav\n",
            "506-0.wav\n",
            "493-1.wav\n",
            "711-0.wav\n",
            "705-0.wav\n",
            "698-0.wav\n",
            "695-0.wav\n",
            "690-0.wav\n",
            "681-0.wav\n",
            "651-0.wav\n",
            "650-0.wav\n",
            "635-0.wav\n",
            "620-0.wav\n",
            "610-0.wav\n",
            "609-0.wav\n",
            "714-0.wav\n",
            "Dementia 305 recording avrg dur(sec)59.835 std 30.420\n",
            "done\n",
            "/content/drive/My Drive/Colab Notebooks/audio/wavfiles/pitt/Control/\n",
            "052-0.wav\n",
            "042-4.wav\n",
            "042-3.wav\n",
            "042-2.wav\n",
            "034-2.wav\n",
            "034-1.wav\n",
            "015-0.wav\n",
            "022-2.wav\n",
            "022-1.wav\n",
            "022-0.wav\n",
            "021-4.wav\n",
            "021-3.wav\n",
            "021-2.wav\n",
            "021-0.wav\n",
            "006-4.wav\n",
            "002-3.wav\n",
            "013-4.wav\n",
            "013-3.wav\n",
            "002-2.wav\n",
            "013-2.wav\n",
            "013-0.wav\n",
            "028-4.wav\n",
            "109-4.wav\n",
            "006-3.wav\n",
            "109-3.wav\n",
            "107-2.wav\n",
            "006-2.wav\n",
            "028-1.wav\n",
            "107-1.wav\n",
            "002-1.wav\n",
            "105-1.wav\n",
            "096-2.wav\n",
            "093-1.wav\n",
            "002-0.wav\n",
            "021-1.wav\n",
            "093-0.wav\n",
            "092-3.wav\n",
            "092-2.wav\n",
            "017-4.wav\n",
            "092-1.wav\n",
            "092-0.wav\n",
            "086-3.wav\n",
            "086-2.wav\n",
            "086-1.wav\n",
            "015-4.wav\n",
            "071-4.wav\n",
            "071-3.wav\n",
            "071-2.wav\n",
            "071-1.wav\n",
            "071-0.wav\n",
            "015-3.wav\n",
            "068-3.wav\n",
            "068-2.wav\n",
            "015-2.wav\n",
            "059-4.wav\n",
            "059-3.wav\n",
            "059-2.wav\n",
            "056-4.wav\n",
            "056-3.wav\n",
            "015-1.wav\n",
            "056-0.wav\n",
            "055-0.wav\n",
            "052-2.wav\n",
            "068-0.wav\n",
            "158-3.wav\n",
            "158-2.wav\n",
            "158-0.wav\n",
            "155-3.wav\n",
            "150-1.wav\n",
            "054-0.wav\n",
            "150-0.wav\n",
            "146-1.wav\n",
            "145-1.wav\n",
            "143-3.wav\n",
            "142-3.wav\n",
            "045-3.wav\n",
            "142-1.wav\n",
            "141-3.wav\n",
            "045-2.wav\n",
            "141-2.wav\n",
            "141-1.wav\n",
            "141-0.wav\n",
            "140-3.wav\n",
            "139-3.wav\n",
            "045-0.wav\n",
            "139-1.wav\n",
            "138-3.wav\n",
            "137-2.wav\n",
            "042-1.wav\n",
            "137-1.wav\n",
            "132-1.wav\n",
            "132-0.wav\n",
            "130-3.wav\n",
            "130-2.wav\n",
            "130-1.wav\n",
            "118-4.wav\n",
            "034-4.wav\n",
            "118-3.wav\n",
            "118-2.wav\n",
            "118-1.wav\n",
            "034-3.wav\n",
            "118-0.wav\n",
            "114-4.wav\n",
            "114-3.wav\n",
            "114-2.wav\n",
            "034-0.wav\n",
            "114-1.wav\n",
            "114-0.wav\n",
            "113-3.wav\n",
            "113-2.wav\n",
            "113-1.wav\n",
            "113-0.wav\n",
            "296-0.wav\n",
            "295-1.wav\n",
            "295-0.wav\n",
            "292-1.wav\n",
            "280-2.wav\n",
            "109-1.wav\n",
            "280-1.wav\n",
            "275-1.wav\n",
            "274-2.wav\n",
            "274-1.wav\n",
            "105-2.wav\n",
            "274-0.wav\n",
            "267-2.wav\n",
            "267-0.wav\n",
            "105-0.wav\n",
            "266-1.wav\n",
            "266-0.wav\n",
            "256-1.wav\n",
            "256-0.wav\n",
            "096-1.wav\n",
            "255-1.wav\n",
            "255-0.wav\n",
            "248-2.wav\n",
            "086-4.wav\n",
            "245-0.wav\n",
            "229-2.wav\n",
            "229-1.wav\n",
            "227-0.wav\n",
            "209-2.wav\n",
            "209-1.wav\n",
            "208-1.wav\n",
            "086-0.wav\n",
            "208-0.wav\n",
            "196-0.wav\n",
            "073-3.wav\n",
            "192-2.wav\n",
            "192-0.wav\n",
            "182-3.wav\n",
            "175-3.wav\n",
            "073-1.wav\n",
            "175-2.wav\n",
            "171-1.wav\n",
            "171-0.wav\n",
            "167-2.wav\n",
            "073-0.wav\n",
            "167-1.wav\n",
            "166-2.wav\n",
            "166-0.wav\n",
            "128-3.wav\n",
            "128-2.wav\n",
            "128-1.wav\n",
            "124-1.wav\n",
            "124-0.wav\n",
            "709-2.wav\n",
            "709-0.wav\n",
            "688-0.wav\n",
            "668-0.wav\n",
            "661-0.wav\n",
            "121-4.wav\n",
            "631-0.wav\n",
            "627-0.wav\n",
            "340-0.wav\n",
            "332-0.wav\n",
            "121-3.wav\n",
            "322-2.wav\n",
            "322-1.wav\n",
            "318-2.wav\n",
            "318-1.wav\n",
            "304-2.wav\n",
            "304-1.wav\n",
            "121-2.wav\n",
            "302-0.wav\n",
            "299-1.wav\n",
            "298-1.wav\n",
            "121-1.wav\n",
            "297-2.wav\n",
            "121-0.wav\n",
            "297-1.wav\n",
            "155-2.wav\n",
            "155-0.wav\n",
            "150-2.wav\n",
            "145-3.wav\n",
            "142-0.wav\n",
            "140-0.wav\n",
            "139-0.wav\n",
            "138-1.wav\n",
            "137-3.wav\n",
            "137-0.wav\n",
            "129-1.wav\n",
            "210-1.wav\n",
            "209-3.wav\n",
            "208-2.wav\n",
            "196-1.wav\n",
            "175-1.wav\n",
            "175-0.wav\n",
            "172-0.wav\n",
            "167-3.wav\n",
            "166-1.wav\n",
            "158-1.wav\n",
            "210-2.wav\n",
            "211-1.wav\n",
            "211-2.wav\n",
            "225-0.wav\n",
            "225-2.wav\n",
            "227-1.wav\n",
            "232-0.wav\n",
            "232-1.wav\n",
            "242-2.wav\n",
            "243-1.wav\n",
            "242-1.wav\n",
            "242-0.wav\n",
            "243-0.wav\n",
            "245-2.wav\n",
            "245-1.wav\n",
            "248-0.wav\n",
            "248-1.wav\n",
            "256-2.wav\n",
            "266-2.wav\n",
            "275-0.wav\n",
            "280-0.wav\n",
            "296-1.wav\n",
            "296-2.wav\n",
            "318-0.wav\n",
            "323-0.wav\n",
            "336-1.wav\n",
            "323-1.wav\n",
            "612-0.wav\n",
            "678-0.wav\n",
            "684-0.wav\n",
            "686-0.wav\n",
            "691-0.wav\n",
            "Control 243 recording avrg dur(sec)55.507 std 24.178\n",
            "done\n"
          ]
        }
      ]
    },
    {
      "cell_type": "markdown",
      "source": [
        "**Extract dynamic features and return them as a dataframe\n",
        "# **Code**\n",
        "\n",
        "---\n",
        "\n"
      ],
      "metadata": {
        "id": "eWJTjuXCZJLN"
      }
    },
    {
      "cell_type": "code",
      "source": [
        "features1=prosodyf.extract_features_file(file_audio, static=False, plots=False, fmt=\"csv\")\n",
        "print(features1)\n",
        "print(features1.head())\n"
      ],
      "metadata": {
        "id": "YeocwoibZIRy"
      },
      "execution_count": null,
      "outputs": []
    },
    {
      "cell_type": "markdown",
      "source": [
        "# **Merge file to get transid**"
      ],
      "metadata": {
        "id": "b0R0JXTcrjZF"
      }
    },
    {
      "cell_type": "code",
      "source": [
        "import pandas as pd\n",
        "df3=pd.read_csv(\"ccc_audio_final.csv\")\n",
        "# df4=pd.read_csv(\"ccc_audio_2.csv\")\n",
        "# df3=pd.concat([df3,df4])\n",
        "# save_file(df3,'ccc_audio_3')\n",
        "#merge audio feature file with segment file\n",
        "# df1=pd.read_csv(\"ccc_segment_2.csv\")\n",
        "# df5=pd.merge(df3,df1,on='filename')\n",
        "\n",
        "df2=pd.read_csv(\"ccc_files.csv\")\n",
        "files1=set(df2['filename'])-set(df3['filename'])\n",
        "print(files1)\n",
        "print(len(list(files1)))\n",
        "\n",
        "df4=pd.merge(df2,df3,on='filename')\n",
        "# df6=pd.merge(df2,df1,on='transid')\n",
        "\n",
        "# print(len(df6))\n",
        "# print(df2.columns.tolist())\n",
        "\n",
        "# print(df6.columns.tolist())\n",
        "# print(len(files1))\n",
        "# print(len(files1))\n",
        "save_file(df4,'ccc_audio')"
      ],
      "metadata": {
        "id": "Hg-TzcvDritO",
        "colab": {
          "base_uri": "https://localhost:8080/"
        },
        "outputId": "2aacc642-14c6-4a88-924e-ebcc00f93db5"
      },
      "execution_count": null,
      "outputs": [
        {
          "output_type": "stream",
          "name": "stdout",
          "text": [
            "{'Badger_Marsh_01', 'Atkins_May_01', 'Yager_Hayes_001', 'Yarrow_Quill_001', 'Atkins_May_03', 'Annan_Merle_01', 'Watkins_Moste_001', 'Teesdale_Georg_001', 'Yarrow_Milli_001', 'Annan_Merle_02'}\n",
            "10\n",
            "done\n"
          ]
        }
      ]
    },
    {
      "cell_type": "markdown",
      "source": [
        "# **mp3 to wav conversion**"
      ],
      "metadata": {
        "id": "VSibjwNGEddv"
      }
    },
    {
      "cell_type": "code",
      "source": [
        "!python mp3_to_wav.py"
      ],
      "metadata": {
        "colab": {
          "base_uri": "https://localhost:8080/"
        },
        "id": "Hbf_l5oAOEHB",
        "outputId": "4457fdd8-8a6a-486e-ab64-72d97cde329e"
      },
      "execution_count": null,
      "outputs": [
        {
          "output_type": "stream",
          "name": "stdout",
          "text": [
            "mp3\n",
            "2764_NormalText-Part1_10-15-20\n",
            "after length\n",
            "425216\n",
            "mp3\n",
            "3454_NormalText_8-10-20\n",
            "after length\n",
            "1242464\n",
            "mp3\n",
            "3460_NormalText_02-26-21\n",
            "after length\n",
            "1234400\n",
            "mp3\n",
            "3253_NormalText_02-04-21\n",
            "after length\n",
            "885632\n",
            "mp3\n",
            "3425_NormalText_Interview_1-29-21\n",
            "after length\n",
            "1198560\n",
            "mp3\n",
            "3461_NormalText_2-26-2021\n",
            "after length\n",
            "818624\n",
            "mp3\n",
            "3351_NormalText_7-28-20\n",
            "after length\n",
            "1241920\n",
            "mp3\n",
            "0040_NormalText_8-4-20\n",
            "after length\n",
            "1166720\n",
            "mp3\n",
            "2764_NormalText-Part2_10-15-20\n",
            "after length\n",
            "675616\n",
            "mp3\n",
            "3446_NormalText_11-05-20\n",
            "after length\n",
            "930241\n",
            "mp3\n",
            "3480_NormalText_03-31-21\n",
            "after length\n",
            "929728\n",
            "mp3\n",
            "3455_NormalText_8-5-20\n",
            "after length\n",
            "1504672\n",
            "mp3\n",
            "3257_NormalText_12-17-2020\n",
            "after length\n",
            "1133856\n",
            "mp3\n",
            "3440_NormalText_Interview_08-07-20\n",
            "after length\n",
            "979057\n",
            "mp3\n",
            "3373_NormalText_03-11-21\n",
            "after length\n",
            "1098176\n",
            "mp3\n",
            "3538_NormalText_8-25-20\n",
            "after length\n",
            "1055072\n",
            "mp3\n",
            "3657_NormalText_7-31-20\n",
            "after length\n",
            "1141792\n",
            "mp3\n",
            "3564_NormalText_8-14-20\n",
            "after length\n",
            "1118176\n",
            "mp3\n",
            "3633_NormalText_1-13-21\n",
            "after length\n",
            "863929\n",
            "mp3\n",
            "3662_Interview_8-3-20\n",
            "after length\n",
            "444925\n",
            "mp3\n",
            "3572_NormalText_7-23-20\n",
            "after length\n",
            "363968\n",
            "mp3\n",
            "3603_Consent_NormalText_Interview_10-09-20\n",
            "after length\n",
            "1398624\n",
            "mp3\n",
            "3662_NormalText_8-3-20\n",
            "after length\n",
            "544321\n",
            "mp3\n",
            "3672_Consent_NormalText_Interview_10-19-20\n",
            "after length\n",
            "1677280\n",
            "mp3\n",
            "3572_NormalText_7-23-20\n",
            "after length\n",
            "612192\n",
            "mp3\n",
            "3632_NormalText_9-16-20\n",
            "after length\n",
            "1329697\n",
            "mp3\n",
            "3675_NormalText_8-28-2020\n",
            "after length\n",
            "898496\n",
            "mp3\n",
            "3536_NormalText_Interview_11-23-20\n",
            "after length\n",
            "852992\n",
            "mp3\n",
            "3559_NormalText_10-8-20\n",
            "after length\n",
            "1251793\n",
            "mp3\n",
            "3601_NormalText_1-25-2021\n",
            "after length\n",
            "1051872\n",
            "mp3\n",
            "3663_NormalText_8-10-20\n",
            "after length\n",
            "1109184\n",
            "mp3\n",
            "3483_Interview_NormalText_08-28-20\n",
            "after length\n",
            "953184\n",
            "mp3\n",
            "3521_NormalText_02-03-21\n",
            "after length\n",
            "900896\n",
            "mp3\n",
            "3661_NormalText_02-18-21\n",
            "after length\n",
            "991616\n",
            "mp3\n",
            "3562_NormalText-Part1_02-03-21\n",
            "after length\n",
            "531936\n",
            "mp3\n",
            "3546_NormalText_02-10-21\n",
            "after length\n",
            "1341973\n",
            "mp3\n",
            "3562_NormalText-Part2_02-03-21\n",
            "after length\n",
            "749696\n",
            "mp3\n",
            "3652_NormalText_8-31-20\n",
            "after length\n",
            "1467072\n",
            "mp3\n",
            "3677_NormalText_7-24-20\n",
            "after length\n",
            "1210432\n",
            "mp3\n",
            "3510_NormalText_8-6-20\n",
            "after length\n",
            "1199552\n",
            "mp3\n",
            "3642_NormalText_Interview_10-19-20\n",
            "after length\n",
            "981472\n",
            "mp3\n",
            "3600_Interview+NormalText_4-2-21\n",
            "after length\n",
            "781856\n",
            "mp3\n",
            "3574_NormalText_9-11-20\n",
            "after length\n",
            "1279456\n",
            "mp3\n",
            "3641_NormalText_8-19-20 \n",
            "after length\n",
            "447552\n",
            "mp3\n",
            "3660_Consent_ Interview_NormalText_2-17-21\n",
            "after length\n",
            "1334272\n",
            "mp3\n",
            "3665_NormalText_Interview_10-12-20\n",
            "after length\n",
            "1373344\n",
            "mp3\n",
            "3622_NormalText_9-8-20\n",
            "after length\n",
            "1026112\n",
            "mp3\n",
            "3607_NormalText_Interview_2-5-21\n",
            "after length\n",
            "1017536\n",
            "mp3\n",
            "3545_Interview_NormalText_08-14-20\n",
            "after length\n",
            "1015904\n",
            "mp3\n",
            "3658_NormalText_4-9-2021\n",
            "after length\n",
            "1048384\n",
            "mp3\n",
            "3610_NormalText_01-19-21\n",
            "after length\n",
            "1163488\n",
            "mp3\n",
            "3715_NormalText_01-15-21\n",
            "after length\n",
            "935680\n",
            "mp3\n",
            "3773_Interview-ONLY_9-3-20\n",
            "after length\n",
            "481760\n",
            "mp3\n",
            "3703_NormalText_10-7-20\n",
            "after length\n",
            "1326432\n",
            "mp3\n",
            "3692_NormalText_Interview_10-16-20\n",
            "after length\n",
            "908992\n",
            "mp3\n",
            "3700_NormalText_2-16-2021\n",
            "after length\n",
            "905376\n",
            "mp3\n",
            "3680_Consent_NormalText_Interview_10-05-20\n",
            "after length\n",
            "1419904\n",
            "mp3\n",
            "3781_NormalText_10-21-20\n",
            "after length\n",
            "1160029\n",
            "mp3\n",
            "3734_Interview_NormalText_10-09-20\n",
            "after length\n",
            "845376\n",
            "mp3\n",
            "3766_NormalText_8-3-20\n",
            "after length\n",
            "1267840\n",
            "mp3\n",
            "3724_NormalText_7-30-20\n",
            "after length\n",
            "1088533\n",
            "mp3\n",
            "3735_NormalText_8-28-20\n",
            "after length\n",
            "1435776\n",
            "mp3\n",
            "3747_Interview_NormalText_11-13-20\n",
            "after length\n",
            "757056\n",
            "mp3\n",
            "3765_NormalText_8-3-20\n",
            "after length\n",
            "1867681\n",
            "mp3\n",
            "3758_NormalText_8-11-20\n",
            "after length\n",
            "1023072\n",
            "mp3\n",
            "3716_NormalText_1-14-21\n",
            "after length\n",
            "985632\n",
            "mp3\n",
            "3769_NormalText_8-18-20\n",
            "after length\n",
            "1108832\n",
            "mp3\n",
            "3744_Consent_NormalText_Interview_10-09-20\n",
            "after length\n",
            "1034336\n",
            "mp3\n",
            "3718_Consent_Interview_NormalText_10-12-20\n",
            "after length\n",
            "1531040\n",
            "mp3\n",
            "3746_NormalText_11-13-20\n",
            "after length\n",
            "1130176\n",
            "mp3\n",
            "3763_NormalText_8-11-20\n",
            "after length\n",
            "1304256\n",
            "mp3\n",
            "3714_Consent_Interview_NormalText_7-24-20\n",
            "after length\n",
            "1286368\n",
            "mp3\n",
            "3768_NormalText_8-21-20\n",
            "after length\n",
            "1469600\n",
            "mp3\n",
            "3760_NormalText_12-14-2020\n",
            "after length\n",
            "1201952\n",
            "mp3\n",
            "3688_NormalText_10-13-20\n",
            "after length\n",
            "1194112\n",
            "mp3\n",
            "3731_NormalText_03-01-21\n",
            "after length\n",
            "1003177\n",
            "mp3\n",
            "3745_NormalText_7-28-20\n",
            "after length\n",
            "1271936\n",
            "mp3\n",
            "3721_NormalText_02-08-21\n",
            "after length\n",
            "888032\n",
            "mp3\n",
            "3738_NormalText_8-5-20\n",
            "after length\n",
            "1048928\n",
            "mp3\n",
            "3774_NormalText_9-14-20\n",
            "after length\n",
            "1101728\n",
            "mp3\n",
            "3722_NormalText_3-1-2021\n",
            "after length\n",
            "621760\n",
            "mp3\n",
            "3803_Consent_Interview_NormalText_1-8-21\n",
            "after length\n",
            "1390176\n",
            "mp3\n",
            "3784_NormalText_Interview_09-18-20\n",
            "after length\n",
            "916000\n",
            "mp3\n",
            "8218_NormalText_7-23-20\n",
            "after length\n",
            "1074529\n",
            "mp3\n",
            "3795_NormalText_11-17-20\n",
            "after length\n",
            "1092800\n",
            "mp3\n",
            "8264_NormalText_9-17-20\n",
            "after length\n",
            "1248013\n",
            "mp3\n",
            "3811_NormalText_03-05-21\n",
            "after length\n",
            "1021408\n",
            "mp3\n",
            "3797_NormalText_11-19-20\n",
            "after length\n",
            "971552\n",
            "mp3\n",
            "3799_Consent_Interview_NormalText_11-20-20\n",
            "after length\n",
            "945088\n",
            "mp3\n",
            "3801_NormalText_1-22-2021\n",
            "after length\n",
            "1020224\n",
            "mp3\n",
            "3816_Consent_Interview_NormalText_09-25-20\n",
            "after length\n",
            "1293216\n",
            "mp3\n",
            "3798_NormalText_11-20-20\n",
            "after length\n",
            "1015648\n",
            "mp3\n",
            "3807_NormalText_11-20-2020\n",
            "after length\n",
            "1184800\n",
            "mp3\n",
            "3838_NormalText_7-30-20\n",
            "after length\n",
            "1594656\n",
            "mp3\n",
            "3823_NormalText_10-20-2020\n",
            "after length\n",
            "1061632\n",
            "mp3\n",
            "3802_NormalText_11-18-20\n",
            "after length\n",
            "1359744\n",
            "mp3\n",
            "3851_NormalText_01-22-21\n",
            "after length\n",
            "1031904\n",
            "mp3\n",
            "3820_Interview_NormalText_11-11-20\n",
            "after length\n",
            "1095008\n",
            "mp3\n",
            "8207_NormalText_10-05-20\n",
            "after length\n",
            "961920\n"
          ]
        }
      ]
    },
    {
      "cell_type": "markdown",
      "source": [
        "# **Extract features and return them as a numpy array\n"
      ],
      "metadata": {
        "id": "HmHV76gaYZIN"
      }
    },
    {
      "cell_type": "code",
      "source": [
        "!apt-get install praat\n",
        "!pip install disvoice"
      ],
      "metadata": {
        "colab": {
          "base_uri": "https://localhost:8080/"
        },
        "id": "Inf-BcipVZ35",
        "outputId": "bff8c2da-17fd-41f8-b3cf-85497f369483"
      },
      "execution_count": null,
      "outputs": [
        {
          "output_type": "stream",
          "name": "stdout",
          "text": [
            "Reading package lists... Done\n",
            "Building dependency tree       \n",
            "Reading state information... Done\n",
            "The following additional packages will be installed:\n",
            "  libasound2-plugins libgail-common libgail18 libgtk2.0-0 libgtk2.0-bin\n",
            "  libgtk2.0-common libpulsedsp libsnapd-glib1 libspeexdsp1\n",
            "  libwebrtc-audio-processing1 osspd osspd-pulseaudio pulseaudio\n",
            "  pulseaudio-utils rtkit\n",
            "Suggested packages:\n",
            "  gvfs snapd pavumeter pavucontrol paman paprefs ubuntu-sounds avahi-daemon\n",
            "The following NEW packages will be installed:\n",
            "  libasound2-plugins libgail-common libgail18 libgtk2.0-0 libgtk2.0-bin\n",
            "  libgtk2.0-common libpulsedsp libsnapd-glib1 libspeexdsp1\n",
            "  libwebrtc-audio-processing1 osspd osspd-pulseaudio praat pulseaudio\n",
            "  pulseaudio-utils rtkit\n",
            "0 upgraded, 16 newly installed, 0 to remove and 22 not upgraded.\n",
            "Need to get 16.4 MB of archives.\n",
            "After this operation, 81.9 MB of additional disk space will be used.\n",
            "Get:1 http://archive.ubuntu.com/ubuntu focal-updates/main amd64 libsnapd-glib1 amd64 1.58-0ubuntu0.20.04.0 [90.1 kB]\n",
            "Get:2 http://archive.ubuntu.com/ubuntu focal-updates/main amd64 libspeexdsp1 amd64 1.2~rc1.2-1.1ubuntu1.20.04.1 [40.4 kB]\n",
            "Get:3 http://archive.ubuntu.com/ubuntu focal/main amd64 libwebrtc-audio-processing1 amd64 0.3.1-0ubuntu3 [263 kB]\n",
            "Get:4 http://archive.ubuntu.com/ubuntu focal/main amd64 libasound2-plugins amd64 1.2.2-1ubuntu1 [66.0 kB]\n",
            "Get:5 http://archive.ubuntu.com/ubuntu focal-updates/main amd64 libpulsedsp amd64 1:13.99.1-1ubuntu3.13 [21.7 kB]\n",
            "Get:6 http://archive.ubuntu.com/ubuntu focal-updates/main amd64 pulseaudio-utils amd64 1:13.99.1-1ubuntu3.13 [55.0 kB]\n",
            "Get:7 http://archive.ubuntu.com/ubuntu focal-updates/main amd64 pulseaudio amd64 1:13.99.1-1ubuntu3.13 [814 kB]\n",
            "Get:8 http://archive.ubuntu.com/ubuntu focal/main amd64 libgtk2.0-common all 2.24.32-4ubuntu4 [126 kB]\n",
            "Get:9 http://archive.ubuntu.com/ubuntu focal/main amd64 libgtk2.0-0 amd64 2.24.32-4ubuntu4 [1,791 kB]\n",
            "Get:10 http://archive.ubuntu.com/ubuntu focal/main amd64 libgail18 amd64 2.24.32-4ubuntu4 [14.7 kB]\n",
            "Get:11 http://archive.ubuntu.com/ubuntu focal/main amd64 libgail-common amd64 2.24.32-4ubuntu4 [116 kB]\n",
            "Get:12 http://archive.ubuntu.com/ubuntu focal/main amd64 libgtk2.0-bin amd64 2.24.32-4ubuntu4 [7,728 B]\n",
            "Get:13 http://archive.ubuntu.com/ubuntu focal/universe amd64 osspd-pulseaudio amd64 1.3.2-11 [19.5 kB]\n",
            "Get:14 http://archive.ubuntu.com/ubuntu focal/universe amd64 osspd amd64 1.3.2-11 [24.8 kB]\n",
            "Get:15 http://archive.ubuntu.com/ubuntu focal/universe amd64 praat amd64 6.1.09-1build1 [12.9 MB]\n",
            "Get:16 http://archive.ubuntu.com/ubuntu focal/main amd64 rtkit amd64 0.12-4 [34.1 kB]\n",
            "Fetched 16.4 MB in 2s (6,872 kB/s)\n",
            "Selecting previously unselected package libsnapd-glib1:amd64.\n",
            "(Reading database ... 128275 files and directories currently installed.)\n",
            "Preparing to unpack .../00-libsnapd-glib1_1.58-0ubuntu0.20.04.0_amd64.deb ...\n",
            "Unpacking libsnapd-glib1:amd64 (1.58-0ubuntu0.20.04.0) ...\n",
            "Selecting previously unselected package libspeexdsp1:amd64.\n",
            "Preparing to unpack .../01-libspeexdsp1_1.2~rc1.2-1.1ubuntu1.20.04.1_amd64.deb ...\n",
            "Unpacking libspeexdsp1:amd64 (1.2~rc1.2-1.1ubuntu1.20.04.1) ...\n",
            "Selecting previously unselected package libwebrtc-audio-processing1:amd64.\n",
            "Preparing to unpack .../02-libwebrtc-audio-processing1_0.3.1-0ubuntu3_amd64.deb ...\n",
            "Unpacking libwebrtc-audio-processing1:amd64 (0.3.1-0ubuntu3) ...\n",
            "Selecting previously unselected package libasound2-plugins:amd64.\n",
            "Preparing to unpack .../03-libasound2-plugins_1.2.2-1ubuntu1_amd64.deb ...\n",
            "Unpacking libasound2-plugins:amd64 (1.2.2-1ubuntu1) ...\n",
            "Selecting previously unselected package libpulsedsp:amd64.\n",
            "Preparing to unpack .../04-libpulsedsp_1%3a13.99.1-1ubuntu3.13_amd64.deb ...\n",
            "Unpacking libpulsedsp:amd64 (1:13.99.1-1ubuntu3.13) ...\n",
            "Selecting previously unselected package pulseaudio-utils.\n",
            "Preparing to unpack .../05-pulseaudio-utils_1%3a13.99.1-1ubuntu3.13_amd64.deb ...\n",
            "Unpacking pulseaudio-utils (1:13.99.1-1ubuntu3.13) ...\n",
            "Selecting previously unselected package pulseaudio.\n",
            "Preparing to unpack .../06-pulseaudio_1%3a13.99.1-1ubuntu3.13_amd64.deb ...\n",
            "Unpacking pulseaudio (1:13.99.1-1ubuntu3.13) ...\n",
            "Selecting previously unselected package libgtk2.0-common.\n",
            "Preparing to unpack .../07-libgtk2.0-common_2.24.32-4ubuntu4_all.deb ...\n",
            "Unpacking libgtk2.0-common (2.24.32-4ubuntu4) ...\n",
            "Selecting previously unselected package libgtk2.0-0:amd64.\n",
            "Preparing to unpack .../08-libgtk2.0-0_2.24.32-4ubuntu4_amd64.deb ...\n",
            "Unpacking libgtk2.0-0:amd64 (2.24.32-4ubuntu4) ...\n",
            "Selecting previously unselected package libgail18:amd64.\n",
            "Preparing to unpack .../09-libgail18_2.24.32-4ubuntu4_amd64.deb ...\n",
            "Unpacking libgail18:amd64 (2.24.32-4ubuntu4) ...\n",
            "Selecting previously unselected package libgail-common:amd64.\n",
            "Preparing to unpack .../10-libgail-common_2.24.32-4ubuntu4_amd64.deb ...\n",
            "Unpacking libgail-common:amd64 (2.24.32-4ubuntu4) ...\n",
            "Selecting previously unselected package libgtk2.0-bin.\n",
            "Preparing to unpack .../11-libgtk2.0-bin_2.24.32-4ubuntu4_amd64.deb ...\n",
            "Unpacking libgtk2.0-bin (2.24.32-4ubuntu4) ...\n",
            "Selecting previously unselected package osspd-pulseaudio.\n",
            "Preparing to unpack .../12-osspd-pulseaudio_1.3.2-11_amd64.deb ...\n",
            "Unpacking osspd-pulseaudio (1.3.2-11) ...\n",
            "Selecting previously unselected package osspd.\n",
            "Preparing to unpack .../13-osspd_1.3.2-11_amd64.deb ...\n",
            "Unpacking osspd (1.3.2-11) ...\n",
            "Selecting previously unselected package praat.\n",
            "Preparing to unpack .../14-praat_6.1.09-1build1_amd64.deb ...\n",
            "Unpacking praat (6.1.09-1build1) ...\n",
            "Selecting previously unselected package rtkit.\n",
            "Preparing to unpack .../15-rtkit_0.12-4_amd64.deb ...\n",
            "Unpacking rtkit (0.12-4) ...\n",
            "Setting up rtkit (0.12-4) ...\n",
            "invoke-rc.d: could not determine current runlevel\n",
            "invoke-rc.d: policy-rc.d denied execution of force-reload.\n",
            "Setting up libasound2-plugins:amd64 (1.2.2-1ubuntu1) ...\n",
            "Setting up libwebrtc-audio-processing1:amd64 (0.3.1-0ubuntu3) ...\n",
            "Setting up libpulsedsp:amd64 (1:13.99.1-1ubuntu3.13) ...\n",
            "Setting up pulseaudio-utils (1:13.99.1-1ubuntu3.13) ...\n",
            "Setting up libspeexdsp1:amd64 (1.2~rc1.2-1.1ubuntu1.20.04.1) ...\n",
            "Setting up libgtk2.0-common (2.24.32-4ubuntu4) ...\n",
            "Setting up libsnapd-glib1:amd64 (1.58-0ubuntu0.20.04.0) ...\n",
            "Setting up libgtk2.0-0:amd64 (2.24.32-4ubuntu4) ...\n",
            "Setting up pulseaudio (1:13.99.1-1ubuntu3.13) ...\n",
            "Adding user pulse to group audio\n",
            "Failed to send reload request: No such file or directory\n",
            "Created symlink /etc/systemd/user/default.target.wants/pulseaudio.service → /usr/lib/systemd/user/pulseaudio.service.\n",
            "Created symlink /etc/systemd/user/sockets.target.wants/pulseaudio.socket → /usr/lib/systemd/user/pulseaudio.socket.\n",
            "invoke-rc.d: could not determine current runlevel\n",
            "invoke-rc.d: policy-rc.d denied execution of start.\n",
            "Setting up libgail18:amd64 (2.24.32-4ubuntu4) ...\n",
            "Setting up libgtk2.0-bin (2.24.32-4ubuntu4) ...\n",
            "Setting up libgail-common:amd64 (2.24.32-4ubuntu4) ...\n",
            "Setting up osspd-pulseaudio (1.3.2-11) ...\n",
            "update-alternatives: using /usr/lib/osspd/ossp-padsp to provide /usr/lib/osspd/ossp-slave (ossp-slave) in auto mode\n",
            "Setting up osspd (1.3.2-11) ...\n",
            "Created symlink /etc/systemd/system/multi-user.target.wants/osspd.service → /lib/systemd/system/osspd.service.\n",
            "invoke-rc.d: could not determine current runlevel\n",
            "invoke-rc.d: policy-rc.d denied execution of start.\n",
            "Setting up praat (6.1.09-1build1) ...\n",
            "Processing triggers for dbus (1.12.16-2ubuntu2.3) ...\n",
            "Processing triggers for mime-support (3.64ubuntu1) ...\n",
            "Processing triggers for hicolor-icon-theme (0.17-2) ...\n",
            "Processing triggers for libc-bin (2.31-0ubuntu9.9) ...\n",
            "Processing triggers for systemd (245.4-4ubuntu3.19) ...\n",
            "Processing triggers for man-db (2.9.1-1) ...\n",
            "Looking in indexes: https://pypi.org/simple, https://us-python.pkg.dev/colab-wheels/public/simple/\n",
            "Collecting disvoice\n",
            "  Downloading disvoice-0.1.8.tar.gz (16.2 MB)\n",
            "\u001b[2K     \u001b[90m━━━━━━━━━━━━━━━━━━━━━━━━━━━━━━━━━━━━━━━━\u001b[0m \u001b[32m16.2/16.2 MB\u001b[0m \u001b[31m60.3 MB/s\u001b[0m eta \u001b[36m0:00:00\u001b[0m\n",
            "\u001b[?25h  Preparing metadata (setup.py) ... \u001b[?25l\u001b[?25hdone\n",
            "Collecting kaldi_io\n",
            "  Downloading kaldi_io-0.9.5-py3-none-any.whl (14 kB)\n",
            "Requirement already satisfied: tqdm in /usr/local/lib/python3.9/dist-packages (from disvoice) (4.65.0)\n",
            "Requirement already satisfied: matplotlib in /usr/local/lib/python3.9/dist-packages (from disvoice) (3.5.3)\n",
            "Requirement already satisfied: numpy in /usr/local/lib/python3.9/dist-packages (from disvoice) (1.22.4)\n",
            "Requirement already satisfied: torch in /usr/local/lib/python3.9/dist-packages (from disvoice) (1.13.1+cu116)\n",
            "Requirement already satisfied: librosa in /usr/local/lib/python3.9/dist-packages (from disvoice) (0.8.1)\n",
            "Requirement already satisfied: pandas in /usr/local/lib/python3.9/dist-packages (from disvoice) (1.3.5)\n",
            "Collecting pysptk\n",
            "  Downloading pysptk-0.2.0.tar.gz (276 kB)\n",
            "\u001b[2K     \u001b[90m━━━━━━━━━━━━━━━━━━━━━━━━━━━━━━━━━━━━━━\u001b[0m \u001b[32m276.8/276.8 KB\u001b[0m \u001b[31m24.0 MB/s\u001b[0m eta \u001b[36m0:00:00\u001b[0m\n",
            "\u001b[?25h  Installing build dependencies ... \u001b[?25l\u001b[?25hdone\n",
            "  Getting requirements to build wheel ... \u001b[?25l\u001b[?25hdone\n",
            "  Preparing metadata (pyproject.toml) ... \u001b[?25l\u001b[?25hdone\n",
            "Collecting phonet\n",
            "  Downloading phonet-0.3.7.tar.gz (8.1 MB)\n",
            "\u001b[2K     \u001b[90m━━━━━━━━━━━━━━━━━━━━━━━━━━━━━━━━━━━━━━━━\u001b[0m \u001b[32m8.1/8.1 MB\u001b[0m \u001b[31m71.6 MB/s\u001b[0m eta \u001b[36m0:00:00\u001b[0m\n",
            "\u001b[?25h  Preparing metadata (setup.py) ... \u001b[?25l\u001b[?25hdone\n",
            "Requirement already satisfied: scipy in /usr/local/lib/python3.9/dist-packages (from disvoice) (1.10.1)\n",
            "Requirement already satisfied: scikit_learn in /usr/local/lib/python3.9/dist-packages (from disvoice) (1.2.1)\n",
            "Requirement already satisfied: pooch>=1.0 in /usr/local/lib/python3.9/dist-packages (from librosa->disvoice) (1.7.0)\n",
            "Requirement already satisfied: decorator>=3.0.0 in /usr/local/lib/python3.9/dist-packages (from librosa->disvoice) (4.4.2)\n",
            "Requirement already satisfied: packaging>=20.0 in /usr/local/lib/python3.9/dist-packages (from librosa->disvoice) (23.0)\n",
            "Requirement already satisfied: soundfile>=0.10.2 in /usr/local/lib/python3.9/dist-packages (from librosa->disvoice) (0.12.1)\n",
            "Requirement already satisfied: audioread>=2.0.0 in /usr/local/lib/python3.9/dist-packages (from librosa->disvoice) (3.0.0)\n",
            "Requirement already satisfied: resampy>=0.2.2 in /usr/local/lib/python3.9/dist-packages (from librosa->disvoice) (0.4.2)\n",
            "Requirement already satisfied: numba>=0.43.0 in /usr/local/lib/python3.9/dist-packages (from librosa->disvoice) (0.56.4)\n",
            "Requirement already satisfied: joblib>=0.14 in /usr/local/lib/python3.9/dist-packages (from librosa->disvoice) (1.2.0)\n",
            "Requirement already satisfied: threadpoolctl>=2.0.0 in /usr/local/lib/python3.9/dist-packages (from scikit_learn->disvoice) (3.1.0)\n",
            "Requirement already satisfied: pillow>=6.2.0 in /usr/local/lib/python3.9/dist-packages (from matplotlib->disvoice) (8.4.0)\n",
            "Requirement already satisfied: pyparsing>=2.2.1 in /usr/local/lib/python3.9/dist-packages (from matplotlib->disvoice) (3.0.9)\n",
            "Requirement already satisfied: cycler>=0.10 in /usr/local/lib/python3.9/dist-packages (from matplotlib->disvoice) (0.11.0)\n",
            "Requirement already satisfied: python-dateutil>=2.7 in /usr/local/lib/python3.9/dist-packages (from matplotlib->disvoice) (2.8.2)\n",
            "Requirement already satisfied: fonttools>=4.22.0 in /usr/local/lib/python3.9/dist-packages (from matplotlib->disvoice) (4.39.0)\n",
            "Requirement already satisfied: kiwisolver>=1.0.1 in /usr/local/lib/python3.9/dist-packages (from matplotlib->disvoice) (1.4.4)\n",
            "Requirement already satisfied: pytz>=2017.3 in /usr/local/lib/python3.9/dist-packages (from pandas->disvoice) (2022.7.1)\n",
            "Requirement already satisfied: tensorflow in /usr/local/lib/python3.9/dist-packages (from phonet->disvoice) (2.11.0)\n",
            "Requirement already satisfied: six in /usr/local/lib/python3.9/dist-packages (from phonet->disvoice) (1.15.0)\n",
            "Collecting python_speech_features\n",
            "  Downloading python_speech_features-0.6.tar.gz (5.6 kB)\n",
            "  Preparing metadata (setup.py) ... \u001b[?25l\u001b[?25hdone\n",
            "Requirement already satisfied: setuptools in /usr/local/lib/python3.9/dist-packages (from phonet->disvoice) (57.4.0)\n",
            "Requirement already satisfied: cython>=0.28.0 in /usr/local/lib/python3.9/dist-packages (from pysptk->disvoice) (0.29.33)\n",
            "Requirement already satisfied: typing-extensions in /usr/local/lib/python3.9/dist-packages (from torch->disvoice) (4.5.0)\n",
            "Requirement already satisfied: llvmlite<0.40,>=0.39.0dev0 in /usr/local/lib/python3.9/dist-packages (from numba>=0.43.0->librosa->disvoice) (0.39.1)\n",
            "Requirement already satisfied: requests>=2.19.0 in /usr/local/lib/python3.9/dist-packages (from pooch>=1.0->librosa->disvoice) (2.25.1)\n",
            "Requirement already satisfied: platformdirs>=2.5.0 in /usr/local/lib/python3.9/dist-packages (from pooch>=1.0->librosa->disvoice) (3.1.0)\n",
            "Requirement already satisfied: cffi>=1.0 in /usr/local/lib/python3.9/dist-packages (from soundfile>=0.10.2->librosa->disvoice) (1.15.1)\n",
            "Requirement already satisfied: libclang>=13.0.0 in /usr/local/lib/python3.9/dist-packages (from tensorflow->phonet->disvoice) (15.0.6.1)\n",
            "Requirement already satisfied: gast<=0.4.0,>=0.2.1 in /usr/local/lib/python3.9/dist-packages (from tensorflow->phonet->disvoice) (0.4.0)\n",
            "Requirement already satisfied: grpcio<2.0,>=1.24.3 in /usr/local/lib/python3.9/dist-packages (from tensorflow->phonet->disvoice) (1.51.3)\n",
            "Requirement already satisfied: h5py>=2.9.0 in /usr/local/lib/python3.9/dist-packages (from tensorflow->phonet->disvoice) (3.1.0)\n",
            "Requirement already satisfied: tensorflow-io-gcs-filesystem>=0.23.1 in /usr/local/lib/python3.9/dist-packages (from tensorflow->phonet->disvoice) (0.31.0)\n",
            "Requirement already satisfied: absl-py>=1.0.0 in /usr/local/lib/python3.9/dist-packages (from tensorflow->phonet->disvoice) (1.4.0)\n",
            "Requirement already satisfied: google-pasta>=0.1.1 in /usr/local/lib/python3.9/dist-packages (from tensorflow->phonet->disvoice) (0.2.0)\n",
            "Requirement already satisfied: keras<2.12,>=2.11.0 in /usr/local/lib/python3.9/dist-packages (from tensorflow->phonet->disvoice) (2.11.0)\n",
            "Requirement already satisfied: protobuf<3.20,>=3.9.2 in /usr/local/lib/python3.9/dist-packages (from tensorflow->phonet->disvoice) (3.19.6)\n",
            "Requirement already satisfied: opt-einsum>=2.3.2 in /usr/local/lib/python3.9/dist-packages (from tensorflow->phonet->disvoice) (3.3.0)\n",
            "Requirement already satisfied: astunparse>=1.6.0 in /usr/local/lib/python3.9/dist-packages (from tensorflow->phonet->disvoice) (1.6.3)\n",
            "Requirement already satisfied: tensorflow-estimator<2.12,>=2.11.0 in /usr/local/lib/python3.9/dist-packages (from tensorflow->phonet->disvoice) (2.11.0)\n",
            "Requirement already satisfied: tensorboard<2.12,>=2.11 in /usr/local/lib/python3.9/dist-packages (from tensorflow->phonet->disvoice) (2.11.2)\n",
            "Requirement already satisfied: termcolor>=1.1.0 in /usr/local/lib/python3.9/dist-packages (from tensorflow->phonet->disvoice) (2.2.0)\n",
            "Requirement already satisfied: flatbuffers>=2.0 in /usr/local/lib/python3.9/dist-packages (from tensorflow->phonet->disvoice) (23.3.3)\n",
            "Requirement already satisfied: wrapt>=1.11.0 in /usr/local/lib/python3.9/dist-packages (from tensorflow->phonet->disvoice) (1.15.0)\n",
            "Requirement already satisfied: wheel<1.0,>=0.23.0 in /usr/local/lib/python3.9/dist-packages (from astunparse>=1.6.0->tensorflow->phonet->disvoice) (0.38.4)\n",
            "Requirement already satisfied: pycparser in /usr/local/lib/python3.9/dist-packages (from cffi>=1.0->soundfile>=0.10.2->librosa->disvoice) (2.21)\n",
            "Requirement already satisfied: certifi>=2017.4.17 in /usr/local/lib/python3.9/dist-packages (from requests>=2.19.0->pooch>=1.0->librosa->disvoice) (2022.12.7)\n",
            "Requirement already satisfied: idna<3,>=2.5 in /usr/local/lib/python3.9/dist-packages (from requests>=2.19.0->pooch>=1.0->librosa->disvoice) (2.10)\n",
            "Requirement already satisfied: chardet<5,>=3.0.2 in /usr/local/lib/python3.9/dist-packages (from requests>=2.19.0->pooch>=1.0->librosa->disvoice) (4.0.0)\n",
            "Requirement already satisfied: urllib3<1.27,>=1.21.1 in /usr/local/lib/python3.9/dist-packages (from requests>=2.19.0->pooch>=1.0->librosa->disvoice) (1.26.14)\n",
            "Requirement already satisfied: google-auth-oauthlib<0.5,>=0.4.1 in /usr/local/lib/python3.9/dist-packages (from tensorboard<2.12,>=2.11->tensorflow->phonet->disvoice) (0.4.6)\n",
            "Requirement already satisfied: tensorboard-data-server<0.7.0,>=0.6.0 in /usr/local/lib/python3.9/dist-packages (from tensorboard<2.12,>=2.11->tensorflow->phonet->disvoice) (0.6.1)\n",
            "Requirement already satisfied: werkzeug>=1.0.1 in /usr/local/lib/python3.9/dist-packages (from tensorboard<2.12,>=2.11->tensorflow->phonet->disvoice) (2.2.3)\n",
            "Requirement already satisfied: tensorboard-plugin-wit>=1.6.0 in /usr/local/lib/python3.9/dist-packages (from tensorboard<2.12,>=2.11->tensorflow->phonet->disvoice) (1.8.1)\n",
            "Requirement already satisfied: markdown>=2.6.8 in /usr/local/lib/python3.9/dist-packages (from tensorboard<2.12,>=2.11->tensorflow->phonet->disvoice) (3.4.1)\n",
            "Requirement already satisfied: google-auth<3,>=1.6.3 in /usr/local/lib/python3.9/dist-packages (from tensorboard<2.12,>=2.11->tensorflow->phonet->disvoice) (2.16.2)\n",
            "Requirement already satisfied: rsa<5,>=3.1.4 in /usr/local/lib/python3.9/dist-packages (from google-auth<3,>=1.6.3->tensorboard<2.12,>=2.11->tensorflow->phonet->disvoice) (4.9)\n",
            "Requirement already satisfied: pyasn1-modules>=0.2.1 in /usr/local/lib/python3.9/dist-packages (from google-auth<3,>=1.6.3->tensorboard<2.12,>=2.11->tensorflow->phonet->disvoice) (0.2.8)\n",
            "Requirement already satisfied: cachetools<6.0,>=2.0.0 in /usr/local/lib/python3.9/dist-packages (from google-auth<3,>=1.6.3->tensorboard<2.12,>=2.11->tensorflow->phonet->disvoice) (5.3.0)\n",
            "Requirement already satisfied: requests-oauthlib>=0.7.0 in /usr/local/lib/python3.9/dist-packages (from google-auth-oauthlib<0.5,>=0.4.1->tensorboard<2.12,>=2.11->tensorflow->phonet->disvoice) (1.3.1)\n",
            "Requirement already satisfied: importlib-metadata>=4.4 in /usr/local/lib/python3.9/dist-packages (from markdown>=2.6.8->tensorboard<2.12,>=2.11->tensorflow->phonet->disvoice) (6.0.0)\n",
            "Requirement already satisfied: MarkupSafe>=2.1.1 in /usr/local/lib/python3.9/dist-packages (from werkzeug>=1.0.1->tensorboard<2.12,>=2.11->tensorflow->phonet->disvoice) (2.1.2)\n",
            "Requirement already satisfied: zipp>=0.5 in /usr/local/lib/python3.9/dist-packages (from importlib-metadata>=4.4->markdown>=2.6.8->tensorboard<2.12,>=2.11->tensorflow->phonet->disvoice) (3.15.0)\n",
            "Requirement already satisfied: pyasn1<0.5.0,>=0.4.6 in /usr/local/lib/python3.9/dist-packages (from pyasn1-modules>=0.2.1->google-auth<3,>=1.6.3->tensorboard<2.12,>=2.11->tensorflow->phonet->disvoice) (0.4.8)\n",
            "Requirement already satisfied: oauthlib>=3.0.0 in /usr/local/lib/python3.9/dist-packages (from requests-oauthlib>=0.7.0->google-auth-oauthlib<0.5,>=0.4.1->tensorboard<2.12,>=2.11->tensorflow->phonet->disvoice) (3.2.2)\n",
            "Building wheels for collected packages: disvoice, phonet, pysptk, python_speech_features\n",
            "  Building wheel for disvoice (setup.py) ... \u001b[?25l\u001b[?25hdone\n",
            "  Created wheel for disvoice: filename=disvoice-0.1.8-py3-none-any.whl size=16254552 sha256=f34c6c3fdbeb554d0d2c3e3d3c99454eb203642893c5706f0573fbc5d3d71a13\n",
            "  Stored in directory: /root/.cache/pip/wheels/55/88/7c/105b58751fb48a364b7a4ef1517da02ea24acca8fc94b645d5\n",
            "  Building wheel for phonet (setup.py) ... \u001b[?25l\u001b[?25hdone\n",
            "  Created wheel for phonet: filename=phonet-0.3.7-py3-none-any.whl size=8084754 sha256=d819fa3d36ded4f202155ab1c1eabf74e84d7e49ae950bb5ebcf58ca937098c9\n",
            "  Stored in directory: /root/.cache/pip/wheels/02/d4/6e/1096678c7384486fde5a859e26aaeafa2aa459f9603f035dc9\n",
            "  Building wheel for pysptk (pyproject.toml) ... \u001b[?25l\u001b[?25hdone\n",
            "  Created wheel for pysptk: filename=pysptk-0.2.0-cp39-cp39-linux_x86_64.whl size=1287343 sha256=ee037cad3402059318d472cd0a8d69a40cf8e03281cebc003ab346984ab0670b\n",
            "  Stored in directory: /root/.cache/pip/wheels/76/2a/ad/dfd885238d8b270ba4a3df7a743256387967eabe3cb7a2a5be\n",
            "  Building wheel for python_speech_features (setup.py) ... \u001b[?25l\u001b[?25hdone\n",
            "  Created wheel for python_speech_features: filename=python_speech_features-0.6-py3-none-any.whl size=5889 sha256=a5d9231118548c6efe65a0ad109b72ac5eef27e96009be92400cd3442e8294aa\n",
            "  Stored in directory: /root/.cache/pip/wheels/09/a1/04/08e2688d2562d8f9ff89e77c6ddfbf7268e07dae1a6f22455e\n",
            "Successfully built disvoice phonet pysptk python_speech_features\n",
            "Installing collected packages: python_speech_features, kaldi_io, pysptk, phonet, disvoice\n",
            "Successfully installed disvoice-0.1.8 kaldi_io-0.9.5 phonet-0.3.7 pysptk-0.2.0 python_speech_features-0.6\n"
          ]
        }
      ]
    },
    {
      "cell_type": "code",
      "source": [
        "import sys\n",
        "import os\n",
        "import pandas as pd\n",
        "# sys.path.append(\"../\")\n",
        "from disvoice.prosody import Prosody\n"
      ],
      "metadata": {
        "id": "MwcfnTFqYD5a",
        "colab": {
          "base_uri": "https://localhost:8080/"
        },
        "outputId": "bba7d600-8fcd-407c-974b-dab8226d052b"
      },
      "execution_count": null,
      "outputs": [
        {
          "output_type": "stream",
          "name": "stderr",
          "text": [
            "################################################################################\n",
            "### WARNING, path does not exist: KALDI_ROOT=/mnt/matylda5/iveselyk/Tools/kaldi-trunk\n",
            "###          (please add 'export KALDI_ROOT=<your_path>' in your $HOME/.profile)\n",
            "###          (or run as: KALDI_ROOT=<your_path> python <your_script>.py)\n",
            "################################################################################\n",
            "\n"
          ]
        }
      ]
    },
    {
      "cell_type": "code",
      "source": [
        "!ls"
      ],
      "metadata": {
        "colab": {
          "base_uri": "https://localhost:8080/"
        },
        "id": "e03isLq55_Tc",
        "outputId": "597ea988-3638-40ab-9751-1466a765ef3e"
      },
      "execution_count": null,
      "outputs": [
        {
          "output_type": "stream",
          "name": "stdout",
          "text": [
            "024-1.mp3  091-2.mp3  206-0.mp3  279-1.mp3  450-1.mp3  601-0.mp3\n",
            "024-2.mp3  094-1.mp3  207-0.mp3  282-0.mp3  458-0.mp3  607-0.mp3\n",
            "029-0.mp3  094-2.mp3  212-0.mp3  282-1.mp3  461-0.mp3  609-0.mp3\n",
            "029-1.mp3  094-3.mp3  212-1.mp3  282-2.mp3  465-0.mp3  610-0.mp3\n",
            "030-0.mp3  097-1.mp3  212-2.mp3  283-0.mp3  466-0.mp3  615-0.mp3\n",
            "030-1.mp3  120-0.mp3  212-3.mp3  283-1.mp3  466-1.mp3  620-0.mp3\n",
            "033-0.mp3  120-1.mp3  213-1.mp3  289-2.mp3  468-0.mp3  624-0.mp3\n",
            "033-1.mp3  120-2.mp3  213-2.mp3  291-1.mp3  470-1.mp3  635-0.mp3\n",
            "033-2.mp3  120-3.mp3  213-3.mp3  291-2.mp3  471-0.mp3  636-0.mp3\n",
            "033-3.mp3  120-4.mp3  216-0.mp3  293-1.mp3  472-0.mp3  639-0.mp3\n",
            "033-4.mp3  122-0.mp3  216-1.mp3  306-0.mp3  474-0.mp3  640-0.mp3\n",
            "035-0.mp3  122-1.mp3  218-0.mp3  310-0.mp3  476-0.mp3  642-0.mp3\n",
            "035-1.mp3  125-0.mp3  218-1.mp3  311-0.mp3  488-0.mp3  648-0.mp3\n",
            "039-0.mp3  127-0.mp3  220-0.mp3  319-0.mp3  488-1.mp3  650-0.mp3\n",
            "043-0.mp3  134-0.mp3  220-1.mp3  325-0.mp3  492-0.mp3  651-0.mp3\n",
            "046-0.mp3  134-1.mp3  221-0.mp3  325-1.mp3  493-0.mp3  656-0.mp3\n",
            "046-2.mp3  134-2.mp3  221-1.mp3  329-0.mp3  493-1.mp3  657-0.mp3\n",
            "049-0.mp3  134-3.mp3  221-2.mp3  334-0.mp3  497-0.mp3  660-0.mp3\n",
            "049-1.mp3  144-0.mp3  221-3.mp3  334-1.mp3  497-1.mp3  663-0.mp3\n",
            "050-0.mp3  144-1.mp3  222-0.mp3  337-0.mp3  504-0.mp3  672-0.mp3\n",
            "051-0.mp3  148-0.mp3  222-1.mp3  338-0.mp3  506-0.mp3  674-0.mp3\n",
            "051-1.mp3  154-0.mp3  223-0.mp3  339-0.mp3  508-0.mp3  676-0.mp3\n",
            "051-2.mp3  154-1.mp3  223-1.mp3  341-0.mp3  508-1.mp3  681-0.mp3\n",
            "051-3.mp3  157-0.mp3  226-0.mp3  342-0.mp3  511-0.mp3  689-0.mp3\n",
            "053-1.mp3  157-1.mp3  234-0.mp3  342-1.mp3  515-1.mp3  690-0.mp3\n",
            "057-0.mp3  157-2.mp3  235-0.mp3  343-0.mp3  526-1.mp3  695-0.mp3\n",
            "057-1.mp3  164-2.mp3  235-2.mp3  344-0.mp3  527-0.mp3  698-0.mp3\n",
            "057-2.mp3  164-3.mp3  236-0.mp3  344-2.mp3  527-1.mp3  702-0.mp3\n",
            "058-0.mp3  168-0.mp3  237-1.mp3  346-0.mp3  528-0.mp3  703-0.mp3\n",
            "058-1.mp3  168-1.mp3  237-2.mp3  349-0.mp3  529-0.mp3  704-0.mp3\n",
            "058-3.mp3  172-1.mp3  238-0.mp3  349-1.mp3  530-0.mp3  707-0.mp3\n",
            "058-4.mp3  172-2.mp3  244-0.mp3  350-0.mp3  539-0.mp3  714-0.mp3\n",
            "061-0.mp3  172-3.mp3  247-0.mp3  350-1.mp3  544-0.mp3  align.py\n",
            "061-1.mp3  173-1.mp3  252-0.mp3  354-0.mp3  544-1.mp3  asr.py\n",
            "065-0.mp3  178-0.mp3  252-1.mp3  355-0.mp3  551-0.mp3  monofiles\n",
            "065-1.mp3  178-1.mp3  252-2.mp3  355-1.mp3  559-0.mp3  MP3files\n",
            "065-2.mp3  181-0.mp3  257-0.mp3  356-0.mp3  562-0.mp3  mp3_wav_convert.py\n",
            "066-0.mp3  181-1.mp3  257-2.mp3  356-1.mp3  563-0.mp3  p2fa_examples_ploppy.wav\n",
            "067-1.mp3  181-2.mp3  260-1.mp3  357-0.mp3  573-0.mp3  pitt_segment.csv\n",
            "067-2.mp3  181-3.mp3  260-2.mp3  358-0.mp3  578-0.mp3  pitt_segment.pickle\n",
            "070-2.mp3  183-0.mp3  264-0.mp3  358-1.mp3  579-0.mp3  pitt_time_processing.py\n",
            "076-0.mp3  183-1.mp3  268-0.mp3  360-0.mp3  580-0.mp3  ploppy.TextGrid.txt\n",
            "076-2.mp3  183-2.mp3  269-0.mp3  361-0.mp3  581-0.mp3  ploppy.txt\n",
            "076-4.mp3  183-3.mp3  269-1.mp3  362-0.mp3  585-0.mp3  Taylor_Morr_001.TextGrid\n",
            "078-0.mp3  184-0.mp3  270-0.mp3  362-1.mp3  587-0.mp3  wavfiles\n",
            "078-1.mp3  184-1.mp3  270-1.mp3  368-0.mp3  591-0.mp3\n",
            "087-1.mp3  184-2.mp3  270-2.mp3  369-0.mp3  592-0.mp3\n",
            "089-0.mp3  203-0.mp3  271-2.mp3  381-0.mp3  594-0.mp3\n",
            "091-0.mp3  203-1.mp3  276-0.mp3  381-1.mp3  595-0.mp3\n",
            "091-1.mp3  205-1.mp3  279-0.mp3  450-0.mp3  598-0.mp3\n"
          ]
        }
      ]
    },
    {
      "cell_type": "markdown",
      "source": [
        "# **create audio feat.**"
      ],
      "metadata": {
        "id": "BGVck7zc4Exn"
      }
    },
    {
      "cell_type": "code",
      "source": [
        "# file_audio=\"/content/drive/My\\ Drive/Colab\\ Notebooks/audio/wavfiles/pitt/Dementia/001-2.wav\"\n",
        "file_audio=\"wavfiles/madress/train/adrso002.wav\"\n",
        "\n",
        "prosodyf=Prosody()\n",
        "prosodyf.size_frame=1.0\n",
        "prosodyf.step=0.1\n",
        "\n",
        "\n",
        "features1=prosodyf.extract_features_file(file_audio, static=True, plots=True, fmt=\"csv\")\n",
        "print(features1.shape)"
      ],
      "metadata": {
        "id": "thWXW0BIYYce",
        "colab": {
          "base_uri": "https://localhost:8080/",
          "height": 1000
        },
        "outputId": "be78a093-e3d9-4756-b805-124099841cb3"
      },
      "execution_count": null,
      "outputs": [
        {
          "output_type": "stream",
          "name": "stderr",
          "text": [
            "/usr/local/lib/python3.8/dist-packages/numpy/core/fromnumeric.py:3440: RuntimeWarning: Mean of empty slice.\n",
            "  return _methods._mean(a, axis=axis, dtype=dtype,\n",
            "/usr/local/lib/python3.8/dist-packages/numpy/core/_methods.py:189: RuntimeWarning: invalid value encountered in double_scalars\n",
            "  ret = ret.dtype.type(ret / rcount)\n",
            "/usr/local/lib/python3.8/dist-packages/numpy/core/_methods.py:262: RuntimeWarning: Degrees of freedom <= 0 for slice\n",
            "  ret = _var(a, axis=axis, dtype=dtype, out=out, ddof=ddof,\n",
            "/usr/local/lib/python3.8/dist-packages/numpy/core/_methods.py:222: RuntimeWarning: invalid value encountered in true_divide\n",
            "  arrmean = um.true_divide(arrmean, div, out=arrmean, casting='unsafe',\n",
            "/usr/local/lib/python3.8/dist-packages/numpy/core/_methods.py:254: RuntimeWarning: invalid value encountered in double_scalars\n",
            "  ret = ret.dtype.type(ret / rcount)\n",
            "/usr/local/lib/python3.8/dist-packages/scipy/stats/stats.py:1107: RuntimeWarning: Mean of empty slice.\n",
            "  mean = a.mean(axis, keepdims=True)\n",
            "/usr/local/lib/python3.8/dist-packages/numpy/core/_methods.py:181: RuntimeWarning: invalid value encountered in true_divide\n",
            "  ret = um.true_divide(\n",
            "/usr/local/lib/python3.8/dist-packages/scipy/stats/stats.py:1216: RuntimeWarning: Mean of empty slice.\n",
            "  mean = a.mean(axis, keepdims=True)\n",
            "/usr/local/lib/python3.8/dist-packages/matplotlib/colors.py:263: VisibleDeprecationWarning: Creating an ndarray from ragged nested sequences (which is a list-or-tuple of lists-or-tuples-or ndarrays with different lengths or shapes) is deprecated. If you meant to do this, you must specify 'dtype=object' when creating the ndarray.\n",
            "  c = np.array(c)\n"
          ]
        },
        {
          "output_type": "display_data",
          "data": {
            "text/plain": [
              "<Figure size 432x432 with 3 Axes>"
            ],
            "image/png": "[encoded data removed]"
          },
          "metadata": {}
        },
        {
          "output_type": "display_data",
          "data": {
            "text/plain": [
              "<Figure size 432x216 with 1 Axes>"
            ],
            "image/png": "[encoded data removed]"
          },
          "metadata": {
            "needs_background": "light"
          }
        },
        {
          "output_type": "stream",
          "name": "stdout",
          "text": [
            "(1, 103)\n"
          ]
        }
      ]
    },
    {
      "cell_type": "code",
      "source": [
        "# file_audio=\"/content/drive/My\\ Drive/Colab\\ Notebooks/audio/wavfiles/pitt/Dementia/001-2.wav\"\n",
        "file_audio=\"wavfiles/madress/train/adrso002.wav\"\n",
        "\n",
        "prosodyf=Prosody()\n",
        "# prosodyf.size_frame=1.0\n",
        "# prosodyf.step=0.1\n",
        "\n",
        "\n",
        "features1=prosodyf.extract_features_file(file_audio, static=True, plots=True, fmt=\"csv\")\n",
        "print(features1.shape)"
      ],
      "metadata": {
        "colab": {
          "base_uri": "https://localhost:8080/",
          "height": 723
        },
        "outputId": "a8765407-6f00-4d3b-fe4e-4fd774055612",
        "id": "o9cI_GiHETRg"
      },
      "execution_count": null,
      "outputs": [
        {
          "output_type": "stream",
          "name": "stderr",
          "text": [
            "/usr/local/lib/python3.8/dist-packages/matplotlib/colors.py:263: VisibleDeprecationWarning: Creating an ndarray from ragged nested sequences (which is a list-or-tuple of lists-or-tuples-or ndarrays with different lengths or shapes) is deprecated. If you meant to do this, you must specify 'dtype=object' when creating the ndarray.\n",
            "  c = np.array(c)\n"
          ]
        },
        {
          "output_type": "display_data",
          "data": {
            "text/plain": [
              "<Figure size 432x432 with 3 Axes>"
            ],
            "image/png": "[encoded data removed]"
          },
          "metadata": {}
        },
        {
          "output_type": "display_data",
          "data": {
            "text/plain": [
              "<Figure size 432x216 with 1 Axes>"
            ],
            "image/png": "[encoded data removed]"
          },
          "metadata": {
            "needs_background": "light"
          }
        },
        {
          "output_type": "stream",
          "name": "stdout",
          "text": [
            "(1, 103)\n"
          ]
        }
      ]
    },
    {
      "cell_type": "code",
      "source": [
        "# file_audio=\"/content/drive/My\\ Drive/Colab\\ Notebooks/audio/wavfiles/pitt/Dementia/001-2.wav\"\n",
        "file_audio=\"wavfiles/madress/train/adrso024.wav\"\n",
        "\n",
        "prosodyf=Prosody()\n",
        "prosodyf.size_frame=1.0\n",
        "prosodyf.step=0.1\n",
        "\n",
        "\n",
        "features1=prosodyf.extract_features_file(file_audio, static=True, plots=True, fmt=\"csv\")\n",
        "print(features1.shape)"
      ],
      "metadata": {
        "colab": {
          "base_uri": "https://localhost:8080/",
          "height": 722
        },
        "outputId": "13ce83d8-db83-4f7f-b097-55e77e20c540",
        "id": "tYMXXIXMQQMU"
      },
      "execution_count": null,
      "outputs": [
        {
          "output_type": "stream",
          "name": "stderr",
          "text": [
            "/usr/local/lib/python3.8/dist-packages/matplotlib/colors.py:263: VisibleDeprecationWarning: Creating an ndarray from ragged nested sequences (which is a list-or-tuple of lists-or-tuples-or ndarrays with different lengths or shapes) is deprecated. If you meant to do this, you must specify 'dtype=object' when creating the ndarray.\n",
            "  c = np.array(c)\n"
          ]
        },
        {
          "output_type": "display_data",
          "data": {
            "text/plain": [
              "<Figure size 432x432 with 3 Axes>"
            ],
            "image/png": "[encoded data removed]"
          },
          "metadata": {}
        },
        {
          "output_type": "display_data",
          "data": {
            "text/plain": [
              "<Figure size 432x216 with 1 Axes>"
            ],
            "image/png": "[encoded data removed]"
          },
          "metadata": {
            "needs_background": "light"
          }
        },
        {
          "output_type": "stream",
          "name": "stdout",
          "text": [
            "(1, 103)\n"
          ]
        }
      ]
    },
    {
      "cell_type": "code",
      "source": [
        "# file_audio=\"/content/drive/My\\ Drive/Colab\\ Notebooks/audio/wavfiles/pitt/Dementia/001-2.wav\"\n",
        "file_audio=\"wavfiles/madress/train/adrso024.wav\"\n",
        "\n",
        "prosodyf=Prosody()\n",
        "# prosodyf.size_frame=1.0\n",
        "# prosodyf.step=0.1\n",
        "\n",
        "\n",
        "features1=prosodyf.extract_features_file(file_audio, static=True, plots=True, fmt=\"csv\")\n",
        "print(features1.shape)"
      ],
      "metadata": {
        "colab": {
          "base_uri": "https://localhost:8080/",
          "height": 725
        },
        "outputId": "7fb169d2-336a-4f64-d506-4cb51d6cadfc",
        "id": "927Lj92EQJAn"
      },
      "execution_count": null,
      "outputs": [
        {
          "output_type": "stream",
          "name": "stderr",
          "text": [
            "/usr/local/lib/python3.8/dist-packages/matplotlib/colors.py:263: VisibleDeprecationWarning: Creating an ndarray from ragged nested sequences (which is a list-or-tuple of lists-or-tuples-or ndarrays with different lengths or shapes) is deprecated. If you meant to do this, you must specify 'dtype=object' when creating the ndarray.\n",
            "  c = np.array(c)\n"
          ]
        },
        {
          "output_type": "display_data",
          "data": {
            "text/plain": [
              "<Figure size 432x432 with 3 Axes>"
            ],
            "image/png": "[encoded data removed]"
          },
          "metadata": {}
        },
        {
          "output_type": "display_data",
          "data": {
            "text/plain": [
              "<Figure size 432x216 with 1 Axes>"
            ],
            "image/png": "[encoded data removed]"
          },
          "metadata": {
            "needs_background": "light"
          }
        },
        {
          "output_type": "stream",
          "name": "stdout",
          "text": [
            "(1, 103)\n"
          ]
        }
      ]
    },
    {
      "cell_type": "code",
      "source": [
        "# file_audio=\"/content/drive/My\\ Drive/Colab\\ Notebooks/audio/wavfiles/pitt/Dementia/001-2.wav\"\n",
        "import os\n",
        "name=\"Alford_Main_05.wav\"\n",
        "# name=\"Abbott_Maddock_01.wav\"\n",
        "path=\"wavfiles/CCC/\"\n",
        "print(os.getcwd())\n",
        "file_audio=path+name\n",
        "\n",
        "prosodyf=Prosody()\n",
        "\n",
        "features1=prosodyf.extract_features_file(file_audio, static=True, plots=True, fmt=\"csv\")\n",
        "print(features1.shape)"
      ],
      "metadata": {
        "colab": {
          "base_uri": "https://localhost:8080/",
          "height": 392
        },
        "id": "k_VHLuy5SU42",
        "outputId": "b174a2cc-bcc6-4413-8ee6-430c591ab4e0"
      },
      "execution_count": null,
      "outputs": [
        {
          "output_type": "stream",
          "name": "stdout",
          "text": [
            "/content\n"
          ]
        },
        {
          "output_type": "error",
          "ename": "FileNotFoundError",
          "evalue": "ignored",
          "traceback": [
            "\u001b[0;31m---------------------------------------------------------------------------\u001b[0m",
            "\u001b[0;31mFileNotFoundError\u001b[0m                         Traceback (most recent call last)",
            "\u001b[0;32m<ipython-input-3-104c7f4b2b52>\u001b[0m in \u001b[0;36m<module>\u001b[0;34m\u001b[0m\n\u001b[1;32m      9\u001b[0m \u001b[0mprosodyf\u001b[0m\u001b[0;34m=\u001b[0m\u001b[0mProsody\u001b[0m\u001b[0;34m(\u001b[0m\u001b[0;34m)\u001b[0m\u001b[0;34m\u001b[0m\u001b[0;34m\u001b[0m\u001b[0m\n\u001b[1;32m     10\u001b[0m \u001b[0;34m\u001b[0m\u001b[0m\n\u001b[0;32m---> 11\u001b[0;31m \u001b[0mfeatures1\u001b[0m\u001b[0;34m=\u001b[0m\u001b[0mprosodyf\u001b[0m\u001b[0;34m.\u001b[0m\u001b[0mextract_features_file\u001b[0m\u001b[0;34m(\u001b[0m\u001b[0mfile_audio\u001b[0m\u001b[0;34m,\u001b[0m \u001b[0mstatic\u001b[0m\u001b[0;34m=\u001b[0m\u001b[0;32mTrue\u001b[0m\u001b[0;34m,\u001b[0m \u001b[0mplots\u001b[0m\u001b[0;34m=\u001b[0m\u001b[0;32mTrue\u001b[0m\u001b[0;34m,\u001b[0m \u001b[0mfmt\u001b[0m\u001b[0;34m=\u001b[0m\u001b[0;34m\"csv\"\u001b[0m\u001b[0;34m)\u001b[0m\u001b[0;34m\u001b[0m\u001b[0;34m\u001b[0m\u001b[0m\n\u001b[0m\u001b[1;32m     12\u001b[0m \u001b[0mprint\u001b[0m\u001b[0;34m(\u001b[0m\u001b[0mfeatures1\u001b[0m\u001b[0;34m.\u001b[0m\u001b[0mshape\u001b[0m\u001b[0;34m)\u001b[0m\u001b[0;34m\u001b[0m\u001b[0;34m\u001b[0m\u001b[0m\n",
            "\u001b[0;32m/usr/local/lib/python3.8/dist-packages/disvoice/prosody/prosody.py\u001b[0m in \u001b[0;36mextract_features_file\u001b[0;34m(self, audio, static, plots, fmt, kaldi_file)\u001b[0m\n\u001b[1;32m    290\u001b[0m         \"\"\"\n\u001b[1;32m    291\u001b[0m         \u001b[0;32mif\u001b[0m \u001b[0mstatic\u001b[0m\u001b[0;34m:\u001b[0m\u001b[0;34m\u001b[0m\u001b[0;34m\u001b[0m\u001b[0m\n\u001b[0;32m--> 292\u001b[0;31m             \u001b[0;32mreturn\u001b[0m \u001b[0mself\u001b[0m\u001b[0;34m.\u001b[0m\u001b[0mextract_static_features\u001b[0m\u001b[0;34m(\u001b[0m\u001b[0maudio\u001b[0m\u001b[0;34m,\u001b[0m \u001b[0mplots\u001b[0m\u001b[0;34m,\u001b[0m \u001b[0mfmt\u001b[0m\u001b[0;34m)\u001b[0m\u001b[0;34m\u001b[0m\u001b[0;34m\u001b[0m\u001b[0m\n\u001b[0m\u001b[1;32m    293\u001b[0m \u001b[0;34m\u001b[0m\u001b[0m\n\u001b[1;32m    294\u001b[0m         \u001b[0;32melse\u001b[0m\u001b[0;34m:\u001b[0m\u001b[0;34m\u001b[0m\u001b[0;34m\u001b[0m\u001b[0m\n",
            "\u001b[0;32m/usr/local/lib/python3.8/dist-packages/disvoice/prosody/prosody.py\u001b[0m in \u001b[0;36mextract_static_features\u001b[0;34m(self, audio, plots, fmt)\u001b[0m\n\u001b[1;32m    238\u001b[0m \u001b[0;34m\u001b[0m\u001b[0m\n\u001b[1;32m    239\u001b[0m     \u001b[0;32mdef\u001b[0m \u001b[0mextract_static_features\u001b[0m\u001b[0;34m(\u001b[0m\u001b[0mself\u001b[0m\u001b[0;34m,\u001b[0m \u001b[0maudio\u001b[0m\u001b[0;34m,\u001b[0m \u001b[0mplots\u001b[0m\u001b[0;34m,\u001b[0m \u001b[0mfmt\u001b[0m\u001b[0;34m)\u001b[0m\u001b[0;34m:\u001b[0m\u001b[0;34m\u001b[0m\u001b[0;34m\u001b[0m\u001b[0m\n\u001b[0;32m--> 240\u001b[0;31m         \u001b[0mfeatures\u001b[0m \u001b[0;34m=\u001b[0m \u001b[0mself\u001b[0m\u001b[0;34m.\u001b[0m\u001b[0mprosody_static\u001b[0m\u001b[0;34m(\u001b[0m\u001b[0maudio\u001b[0m\u001b[0;34m,\u001b[0m \u001b[0mplots\u001b[0m\u001b[0;34m)\u001b[0m\u001b[0;34m\u001b[0m\u001b[0;34m\u001b[0m\u001b[0m\n\u001b[0m\u001b[1;32m    241\u001b[0m         \u001b[0;32mif\u001b[0m \u001b[0mfmt\u001b[0m \u001b[0;32min\u001b[0m \u001b[0;34m(\u001b[0m\u001b[0;34m\"npy\"\u001b[0m\u001b[0;34m,\u001b[0m \u001b[0;34m\"txt\"\u001b[0m\u001b[0;34m)\u001b[0m\u001b[0;34m:\u001b[0m\u001b[0;34m\u001b[0m\u001b[0;34m\u001b[0m\u001b[0m\n\u001b[1;32m    242\u001b[0m             \u001b[0;32mreturn\u001b[0m \u001b[0mfeatures\u001b[0m\u001b[0;34m\u001b[0m\u001b[0;34m\u001b[0m\u001b[0m\n",
            "\u001b[0;32m/usr/local/lib/python3.8/dist-packages/disvoice/prosody/prosody.py\u001b[0m in \u001b[0;36mprosody_static\u001b[0;34m(self, audio, plots)\u001b[0m\n\u001b[1;32m    307\u001b[0m \u001b[0;34m\u001b[0m\u001b[0m\n\u001b[1;32m    308\u001b[0m         \"\"\"\n\u001b[0;32m--> 309\u001b[0;31m         \u001b[0mfs\u001b[0m\u001b[0;34m,\u001b[0m \u001b[0mdata_audio\u001b[0m \u001b[0;34m=\u001b[0m \u001b[0mread\u001b[0m\u001b[0;34m(\u001b[0m\u001b[0maudio\u001b[0m\u001b[0;34m)\u001b[0m\u001b[0;34m\u001b[0m\u001b[0;34m\u001b[0m\u001b[0m\n\u001b[0m\u001b[1;32m    310\u001b[0m \u001b[0;34m\u001b[0m\u001b[0m\n\u001b[1;32m    311\u001b[0m         \u001b[0;32mif\u001b[0m \u001b[0mlen\u001b[0m\u001b[0;34m(\u001b[0m\u001b[0mdata_audio\u001b[0m\u001b[0;34m.\u001b[0m\u001b[0mshape\u001b[0m\u001b[0;34m)\u001b[0m\u001b[0;34m>\u001b[0m\u001b[0;36m1\u001b[0m\u001b[0;34m:\u001b[0m\u001b[0;34m\u001b[0m\u001b[0;34m\u001b[0m\u001b[0m\n",
            "\u001b[0;32m/usr/local/lib/python3.8/dist-packages/scipy/io/wavfile.py\u001b[0m in \u001b[0;36mread\u001b[0;34m(filename, mmap)\u001b[0m\n\u001b[1;32m    645\u001b[0m         \u001b[0mmmap\u001b[0m \u001b[0;34m=\u001b[0m \u001b[0;32mFalse\u001b[0m\u001b[0;34m\u001b[0m\u001b[0;34m\u001b[0m\u001b[0m\n\u001b[1;32m    646\u001b[0m     \u001b[0;32melse\u001b[0m\u001b[0;34m:\u001b[0m\u001b[0;34m\u001b[0m\u001b[0;34m\u001b[0m\u001b[0m\n\u001b[0;32m--> 647\u001b[0;31m         \u001b[0mfid\u001b[0m \u001b[0;34m=\u001b[0m \u001b[0mopen\u001b[0m\u001b[0;34m(\u001b[0m\u001b[0mfilename\u001b[0m\u001b[0;34m,\u001b[0m \u001b[0;34m'rb'\u001b[0m\u001b[0;34m)\u001b[0m\u001b[0;34m\u001b[0m\u001b[0;34m\u001b[0m\u001b[0m\n\u001b[0m\u001b[1;32m    648\u001b[0m \u001b[0;34m\u001b[0m\u001b[0m\n\u001b[1;32m    649\u001b[0m     \u001b[0;32mtry\u001b[0m\u001b[0;34m:\u001b[0m\u001b[0;34m\u001b[0m\u001b[0;34m\u001b[0m\u001b[0m\n",
            "\u001b[0;31mFileNotFoundError\u001b[0m: [Errno 2] No such file or directory: 'wavfiles/CCC/Alford_Main_05.wav'"
          ]
        }
      ]
    },
    {
      "cell_type": "code",
      "source": [
        "path = \"wavfiles/ccc/\"\n",
        "\n",
        "wav_include=pd.read_csv('ccc_include_wav_file.csv')\n",
        "audio=pd.read_csv('ccc_audio_new.csv')\n",
        "include=set(wav_include['filename'])-set(audio['filename'])\n",
        "print(include)\n",
        "print(len(include))\n",
        "# print(len(wav_include))\n",
        "# print(wav_include['filename'])\n",
        "# wav={'filename':[]}\n",
        "# for (root, dirs, file) in os.walk(path):\n",
        "#   for filename in file:\n",
        "#     if filename.split('.')[0]  in wav_include['filename'].values.tolist():\n",
        "#       wav['filename'].append(filename.split('.')[0])\n",
        "# save_file(pd.DataFrame(wav),'wav_include')\n",
        "\n",
        "\n",
        "\n",
        "\n"
      ],
      "metadata": {
        "colab": {
          "base_uri": "https://localhost:8080/"
        },
        "id": "CyY4mgidrwT7",
        "outputId": "dc8e7a17-7924-422d-a13f-ddb34d3963d4"
      },
      "execution_count": null,
      "outputs": [
        {
          "output_type": "stream",
          "name": "stdout",
          "text": [
            "{'Alford_Martin_04', 'Tichenor_Cunar_001', 'Tichenor_Pardu_001', 'Appleby_Main--_04', 'Temes_Wash_001_02', 'Tatter_Allen_001', 'Tichenor_Payne_002', 'Walton_Caldw_001', 'Yarrow_Milli_001', 'Alford_Main_06', 'Tichenor_Page_001', 'Atkins_May_01', 'Appleby_Main--_07', 'Tichenor_Good_002', 'Alford_Main_01', 'Tichenor_Litt_001', 'Atherton_Masten_01', 'Tichenor_Lawre_002', 'Appleby_Manser_01', 'Appleby_Main--_02', 'Annan_Merle_02', 'Appleby_Main--_03', 'Atherton_Masten_02', 'Adrian_Mans_09', 'Yarrow_Quill_001', 'Alford_Main_07', 'Atherton_Merton_01', 'Appleby_Main--_01', 'Waite_Stefa_001_01', 'Tichenor_Longg_001', 'Alsop_Mallery_02', 'Ascall_Mather_05', 'Tichenor_Over_001', 'Alford_Main_03', 'Alford_Main_02', 'Alford_Martin_01', 'Adrian_Mans_02', 'Atherton_Masten_03', 'Tichenor_Knech_001', 'Yager_Hayes_001', 'Tichenor_Dolph_001_02', 'Tichenor_Good_001', 'Appleby_Main--_06', 'Appleby_Main--_05', 'Alford_Martin_02', 'Ascall_Mather_04', 'Walton_Dingl_001', 'Ascall_Mather_06', 'Adrian_Mans_05', 'Ascall_Mather_01', 'Atkins_May_03', 'Watkins_Moste_001', 'Tichenor_Litt_002', 'Alford_Main_04', 'Alford_Main_05', 'Annan_Merle_01', 'Badger_Marsh_01', 'Ascall_Merton_02', 'Tichenor_Dolph_001_01', 'Ascall_Merton_08', 'Ascall_Mather_02', 'Atherton_Merton_02', 'Ascall_Mather_07', 'Tichenor_Larac_002', 'Appleby_Manser_02', 'Tichenor_Sech_001', 'Tichenor_Mart_001', 'Ascall_Merton_04', 'Adcock_Magoon_02', 'Atherton_Merton_03', 'Alford_Martin_03', 'Ascall_Merton_03', 'Ascall_Merton_05', 'Alford_Martin_05', 'Teesdale_Georg_001', 'Ascall_Merton_07', 'Ascall_Mather_03', 'Tichenor_Payne_001', 'Ascall_Merton_06', 'Ascall_Merton_01'}\n",
            "80\n"
          ]
        }
      ]
    },
    {
      "cell_type": "code",
      "source": [
        "file_audio=\"wavfiles/pitt/Control/006-2.wav\"\n",
        "\n",
        "prosodyf=Prosody()\n",
        "\n",
        "features1=prosodyf.extract_features_file(file_audio, static=True, plots=True, fmt=\"csv\")\n",
        "print(features1.shape)"
      ],
      "metadata": {
        "colab": {
          "base_uri": "https://localhost:8080/",
          "height": 242
        },
        "id": "bKFFNvQq6aOg",
        "outputId": "a8a6bce7-16fb-44f1-bd72-8a7b21b2b78a"
      },
      "execution_count": null,
      "outputs": [
        {
          "output_type": "error",
          "ename": "NameError",
          "evalue": "ignored",
          "traceback": [
            "\u001b[0;31m---------------------------------------------------------------------------\u001b[0m",
            "\u001b[0;31mNameError\u001b[0m                                 Traceback (most recent call last)",
            "\u001b[0;32m<ipython-input-2-473504f914b1>\u001b[0m in \u001b[0;36m<module>\u001b[0;34m\u001b[0m\n\u001b[1;32m      1\u001b[0m \u001b[0mfile_audio\u001b[0m\u001b[0;34m=\u001b[0m\u001b[0;34m\"wavfiles/pitt/Control/006-2.wav\"\u001b[0m\u001b[0;34m\u001b[0m\u001b[0;34m\u001b[0m\u001b[0m\n\u001b[1;32m      2\u001b[0m \u001b[0;34m\u001b[0m\u001b[0m\n\u001b[0;32m----> 3\u001b[0;31m \u001b[0mprosodyf\u001b[0m\u001b[0;34m=\u001b[0m\u001b[0mProsody\u001b[0m\u001b[0;34m(\u001b[0m\u001b[0;34m)\u001b[0m\u001b[0;34m\u001b[0m\u001b[0;34m\u001b[0m\u001b[0m\n\u001b[0m\u001b[1;32m      4\u001b[0m \u001b[0;34m\u001b[0m\u001b[0m\n\u001b[1;32m      5\u001b[0m \u001b[0mfeatures1\u001b[0m\u001b[0;34m=\u001b[0m\u001b[0mprosodyf\u001b[0m\u001b[0;34m.\u001b[0m\u001b[0mextract_features_file\u001b[0m\u001b[0;34m(\u001b[0m\u001b[0mfile_audio\u001b[0m\u001b[0;34m,\u001b[0m \u001b[0mstatic\u001b[0m\u001b[0;34m=\u001b[0m\u001b[0;32mTrue\u001b[0m\u001b[0;34m,\u001b[0m \u001b[0mplots\u001b[0m\u001b[0;34m=\u001b[0m\u001b[0;32mTrue\u001b[0m\u001b[0;34m,\u001b[0m \u001b[0mfmt\u001b[0m\u001b[0;34m=\u001b[0m\u001b[0;34m\"csv\"\u001b[0m\u001b[0;34m)\u001b[0m\u001b[0;34m\u001b[0m\u001b[0;34m\u001b[0m\u001b[0m\n",
            "\u001b[0;31mNameError\u001b[0m: name 'Prosody' is not defined"
          ]
        }
      ]
    },
    {
      "cell_type": "code",
      "source": [
        "print(features1)\n",
        "df=pd.DataFrame(features1)"
      ],
      "metadata": {
        "colab": {
          "base_uri": "https://localhost:8080/"
        },
        "id": "-8jlSDyHDPnS",
        "outputId": "b74bec4e-140f-42e0-929d-e6f06a877f0e"
      },
      "execution_count": null,
      "outputs": [
        {
          "output_type": "stream",
          "name": "stdout",
          "text": [
            "        F0avg      F0std       F0max  ...       VVU       VP        UP\n",
            "0  115.535957  21.381729  308.777222  ...  0.742747  0.44187  0.153044\n",
            "\n",
            "[1 rows x 103 columns]\n"
          ]
        }
      ]
    },
    {
      "cell_type": "markdown",
      "source": [
        "# **navigate files and generate prosody feat.**"
      ],
      "metadata": {
        "id": "54S3eLpV5ElO"
      }
    },
    {
      "cell_type": "code",
      "source": [
        "import os\n",
        "import pandas as pd\n",
        "path = \"wavfiles/adrc/\"\n",
        "# path= \"/content/drive/My\\ Drive/Colab\\ Notebooks/audio/\"\n",
        "# audio=pd.read_csv('pitt_audio.csv')\n",
        "# segment=pd.read_csv('pitt_segment.csv')\n",
        "\n",
        "# print(files1)\n",
        "# files1=list(files1)\n",
        "# df=None\n",
        "# # df7=pd.read_csv(\"ccc_ling_audio.csv\")\n",
        "# df8=pd.read_csv(\"ccc_files.csv\")\n",
        "# print(len(include))\n",
        "# result={'filename':list(include)}\n",
        "# save_file(pd.DataFrame(include),'ccc_include_wav_file')\n",
        "# for folder in [ 'Dementia','Control']:\n",
        "# print(folder)\n",
        "# wav_include=pd.read_csv('wav_include.csv')\n",
        "# exclude=audio['filename'].values.tolist()\n",
        "# include=['Ascall_Merton_06.wav','Ascall_Merton_03.wav','Tichenor_Payne_001.wav']\n",
        "# include=list(set(segment['filename'])-set(audio['filename']))\n",
        "# print(len(include))\n",
        "# print(include)\n",
        "for folder in ['']:\n",
        "  audio=None\n",
        "  for (root, dirs, file) in os.walk(path+folder+\"/\"):\n",
        "    for filename in file:\n",
        "      if not filename.endswith('.wav'):\n",
        "        continue\n",
        "      # print('hi')\n",
        "\n",
        "      # if filename.split('.')[0] not in include:\n",
        "        # continue\n",
        "\n",
        "\n",
        "      name=filename.split('.')[0]\n",
        "\n",
        "\n",
        "      #files in ccc dataset we r working with, alredy converrted to wav , but not yet processed for features\n",
        "      # if name.split('.')[0] in df8['filename'].values.tolist() and name not in audio['filename'].values.tolist():\n",
        "      # if name in include:\n",
        "        # print(filename)\n",
        "\n",
        "\n",
        "      print('processing file %s'%(filename))\n",
        "\n",
        "\n",
        "\n",
        "        # if not filename.endswith('.csv'):\n",
        "        #   continue\n",
        "\n",
        "      # try:\n",
        "      # print('processing file %s'%(filename))\n",
        "      # features1=pd.read_csv(filename)\n",
        "      # features1['filename']=fname\n",
        "      prosodyf=Prosody()\n",
        "      features1=prosodyf.extract_features_file(path+folder+\"/\"+filename, static=True, plots=False, fmt=\"csv\")\n",
        "      # save_file(pd.DataFrame(features1),'ccc_indiv_'+name)\n",
        "\n",
        "      df1=pd.DataFrame(features1)\n",
        "      df1['filename']=name\n",
        "      # print(len(audio))\n",
        "      if audio is not None:\n",
        "        audio_new=pd.concat([audio,features1])\n",
        "        audio=audio_new\n",
        "      else:\n",
        "        audio=df1\n",
        "      # print(len(audio))\n",
        "      # break\n",
        "      # except :\n",
        "      #     print('exception')\n",
        "      #     print(filename)\n",
        "        # if df is None and features1 is not None:\n",
        "\n",
        "        #   df=pd.DataFrame(features1)\n",
        "        #   df['filename']=filename.split('.')[0]\n",
        "        # else:\n",
        "        #   if df is None and features1 is not None:\n",
        "\n",
        "        #     df1=pd.DataFrame(features1)\n",
        "        #     df1['filename']=filename.split('.')[0]\n",
        "        # if df is not None and df1 is not None:\n",
        "        #   df2=pd.concat([df,df1],axis=0)\n",
        "        #   df=df2\n",
        "\n",
        "  save_file(audio,'adrc_prosody_'+str('test'))\n",
        "\n",
        "# include=set(df8['filename'])-set(audio['filename'])\n",
        "# print(include)\n",
        "\n",
        "\n",
        "\n",
        "\n",
        "\n",
        "\n"
      ],
      "metadata": {
        "colab": {
          "base_uri": "https://localhost:8080/",
          "height": 1000
        },
        "id": "kK7Mtzs6D8_P",
        "outputId": "3457e832-6235-4f67-9de4-6810e9153fd4"
      },
      "execution_count": null,
      "outputs": [
        {
          "output_type": "stream",
          "name": "stdout",
          "text": [
            "processing file 2764_NormalText-Part1_10-15-20.wav\n",
            "processing file 3454_NormalText_8-10-20.wav\n",
            "processing file 3460_NormalText_02-26-21.wav\n",
            "processing file 3253_NormalText_02-04-21.wav\n",
            "processing file 3425_NormalText_Interview_1-29-21.wav\n",
            "processing file 3461_NormalText_2-26-2021.wav\n",
            "processing file 3351_NormalText_7-28-20.wav\n",
            "processing file 0040_NormalText_8-4-20.wav\n"
          ]
        },
        {
          "output_type": "stream",
          "name": "stderr",
          "text": [
            "/usr/local/lib/python3.9/dist-packages/disvoice/prosody/prosody_functions.py:210: RuntimeWarning: Precision loss occurred in moment calculation due to catastrophic cancellation. This occurs when the data are nearly identical. Results may be unreliable.\n",
            "  E0skw=st.skew(log_energy_contour)\n",
            "/usr/local/lib/python3.9/dist-packages/disvoice/prosody/prosody_functions.py:211: RuntimeWarning: Precision loss occurred in moment calculation due to catastrophic cancellation. This occurs when the data are nearly identical. Results may be unreliable.\n",
            "  E0ku=st.kurtosis(log_energy_contour)\n"
          ]
        },
        {
          "output_type": "stream",
          "name": "stdout",
          "text": [
            "processing file 2764_NormalText-Part2_10-15-20.wav\n",
            "processing file 3446_NormalText_11-05-20.wav\n"
          ]
        },
        {
          "output_type": "stream",
          "name": "stderr",
          "text": [
            "/usr/local/lib/python3.9/dist-packages/disvoice/prosody/prosody_functions.py:210: RuntimeWarning: Precision loss occurred in moment calculation due to catastrophic cancellation. This occurs when the data are nearly identical. Results may be unreliable.\n",
            "  E0skw=st.skew(log_energy_contour)\n",
            "/usr/local/lib/python3.9/dist-packages/disvoice/prosody/prosody_functions.py:211: RuntimeWarning: Precision loss occurred in moment calculation due to catastrophic cancellation. This occurs when the data are nearly identical. Results may be unreliable.\n",
            "  E0ku=st.kurtosis(log_energy_contour)\n"
          ]
        },
        {
          "output_type": "stream",
          "name": "stdout",
          "text": [
            "processing file 3480_NormalText_03-31-21.wav\n",
            "processing file 3455_NormalText_8-5-20.wav\n",
            "processing file 3257_NormalText_12-17-2020.wav\n",
            "processing file 3440_NormalText_Interview_08-07-20.wav\n",
            "processing file 3373_NormalText_03-11-21.wav\n",
            "processing file 3538_NormalText_8-25-20.wav\n",
            "processing file 3657_NormalText_7-31-20.wav\n"
          ]
        },
        {
          "output_type": "stream",
          "name": "stderr",
          "text": [
            "/usr/local/lib/python3.9/dist-packages/disvoice/prosody/prosody_functions.py:229: RuntimeWarning: Precision loss occurred in moment calculation due to catastrophic cancellation. This occurs when the data are nearly identical. Results may be unreliable.\n",
            "  Elskw=st.skew(log_energy_contour)\n",
            "/usr/local/lib/python3.9/dist-packages/disvoice/prosody/prosody_functions.py:230: RuntimeWarning: Precision loss occurred in moment calculation due to catastrophic cancellation. This occurs when the data are nearly identical. Results may be unreliable.\n",
            "  Elku=st.kurtosis(log_energy_contour)\n"
          ]
        },
        {
          "output_type": "stream",
          "name": "stdout",
          "text": [
            "processing file 3564_NormalText_8-14-20.wav\n",
            "processing file 3633_NormalText_1-13-21.wav\n",
            "processing file 3662_Interview_8-3-20.wav\n",
            "processing file 3572_NormalText_7-23-20.wav\n",
            "processing file 3603_Consent_NormalText_Interview_10-09-20.wav\n",
            "processing file 3662_NormalText_8-3-20.wav\n"
          ]
        },
        {
          "output_type": "stream",
          "name": "stderr",
          "text": [
            "/usr/local/lib/python3.9/dist-packages/disvoice/prosody/prosody_functions.py:210: RuntimeWarning: Precision loss occurred in moment calculation due to catastrophic cancellation. This occurs when the data are nearly identical. Results may be unreliable.\n",
            "  E0skw=st.skew(log_energy_contour)\n",
            "/usr/local/lib/python3.9/dist-packages/disvoice/prosody/prosody_functions.py:211: RuntimeWarning: Precision loss occurred in moment calculation due to catastrophic cancellation. This occurs when the data are nearly identical. Results may be unreliable.\n",
            "  E0ku=st.kurtosis(log_energy_contour)\n"
          ]
        },
        {
          "output_type": "stream",
          "name": "stdout",
          "text": [
            "processing file 3672_Consent_NormalText_Interview_10-19-20.wav\n"
          ]
        },
        {
          "output_type": "stream",
          "name": "stderr",
          "text": [
            "/usr/local/lib/python3.9/dist-packages/disvoice/prosody/prosody_functions.py:229: RuntimeWarning: Precision loss occurred in moment calculation due to catastrophic cancellation. This occurs when the data are nearly identical. Results may be unreliable.\n",
            "  Elskw=st.skew(log_energy_contour)\n",
            "/usr/local/lib/python3.9/dist-packages/disvoice/prosody/prosody_functions.py:230: RuntimeWarning: Precision loss occurred in moment calculation due to catastrophic cancellation. This occurs when the data are nearly identical. Results may be unreliable.\n",
            "  Elku=st.kurtosis(log_energy_contour)\n"
          ]
        },
        {
          "output_type": "stream",
          "name": "stdout",
          "text": [
            "processing file 3572_NormalText_7-23-20(2).wav\n"
          ]
        },
        {
          "output_type": "stream",
          "name": "stderr",
          "text": [
            "/usr/local/lib/python3.9/dist-packages/disvoice/prosody/prosody_functions.py:210: RuntimeWarning: Precision loss occurred in moment calculation due to catastrophic cancellation. This occurs when the data are nearly identical. Results may be unreliable.\n",
            "  E0skw=st.skew(log_energy_contour)\n",
            "/usr/local/lib/python3.9/dist-packages/disvoice/prosody/prosody_functions.py:211: RuntimeWarning: Precision loss occurred in moment calculation due to catastrophic cancellation. This occurs when the data are nearly identical. Results may be unreliable.\n",
            "  E0ku=st.kurtosis(log_energy_contour)\n"
          ]
        },
        {
          "output_type": "stream",
          "name": "stdout",
          "text": [
            "processing file 3632_NormalText_9-16-20.wav\n",
            "processing file 3675_NormalText_8-28-2020.wav\n",
            "processing file 3536_NormalText_Interview_11-23-20.wav\n",
            "processing file 3559_NormalText_10-8-20.wav\n",
            "processing file 3601_NormalText_1-25-2021.wav\n",
            "processing file 3663_NormalText_8-10-20.wav\n",
            "processing file 3483_Interview_NormalText_08-28-20.wav\n",
            "processing file 3521_NormalText_02-03-21.wav\n",
            "processing file 3661_NormalText_02-18-21.wav\n",
            "processing file 3562_NormalText-Part1_02-03-21.wav\n",
            "processing file 3546_NormalText_02-10-21.wav\n",
            "processing file 3562_NormalText-Part2_02-03-21.wav\n",
            "processing file 3652_NormalText_8-31-20.wav\n",
            "processing file 3677_NormalText_7-24-20.wav\n",
            "processing file 3510_NormalText_8-6-20.wav\n",
            "processing file 3642_NormalText_Interview_10-19-20.wav\n",
            "processing file 3600_Interview+NormalText_4-2-21.wav\n"
          ]
        },
        {
          "output_type": "stream",
          "name": "stderr",
          "text": [
            "/usr/local/lib/python3.9/dist-packages/disvoice/prosody/prosody_functions.py:229: RuntimeWarning: Precision loss occurred in moment calculation due to catastrophic cancellation. This occurs when the data are nearly identical. Results may be unreliable.\n",
            "  Elskw=st.skew(log_energy_contour)\n",
            "/usr/local/lib/python3.9/dist-packages/disvoice/prosody/prosody_functions.py:230: RuntimeWarning: Precision loss occurred in moment calculation due to catastrophic cancellation. This occurs when the data are nearly identical. Results may be unreliable.\n",
            "  Elku=st.kurtosis(log_energy_contour)\n"
          ]
        },
        {
          "output_type": "stream",
          "name": "stdout",
          "text": [
            "processing file 3574_NormalText_9-11-20.wav\n",
            "processing file 3641_NormalText_8-19-20 .wav\n",
            "processing file 3660_Consent_ Interview_NormalText_2-17-21.wav\n",
            "processing file 3665_NormalText_Interview_10-12-20.wav\n",
            "processing file 3622_NormalText_9-8-20.wav\n"
          ]
        },
        {
          "output_type": "stream",
          "name": "stderr",
          "text": [
            "/usr/local/lib/python3.9/dist-packages/disvoice/prosody/prosody_functions.py:210: RuntimeWarning: Precision loss occurred in moment calculation due to catastrophic cancellation. This occurs when the data are nearly identical. Results may be unreliable.\n",
            "  E0skw=st.skew(log_energy_contour)\n",
            "/usr/local/lib/python3.9/dist-packages/disvoice/prosody/prosody_functions.py:211: RuntimeWarning: Precision loss occurred in moment calculation due to catastrophic cancellation. This occurs when the data are nearly identical. Results may be unreliable.\n",
            "  E0ku=st.kurtosis(log_energy_contour)\n",
            "/usr/local/lib/python3.9/dist-packages/disvoice/prosody/prosody_functions.py:229: RuntimeWarning: Precision loss occurred in moment calculation due to catastrophic cancellation. This occurs when the data are nearly identical. Results may be unreliable.\n",
            "  Elskw=st.skew(log_energy_contour)\n",
            "/usr/local/lib/python3.9/dist-packages/disvoice/prosody/prosody_functions.py:230: RuntimeWarning: Precision loss occurred in moment calculation due to catastrophic cancellation. This occurs when the data are nearly identical. Results may be unreliable.\n",
            "  Elku=st.kurtosis(log_energy_contour)\n"
          ]
        },
        {
          "output_type": "stream",
          "name": "stdout",
          "text": [
            "processing file 3607_NormalText_Interview_2-5-21.wav\n"
          ]
        },
        {
          "output_type": "stream",
          "name": "stderr",
          "text": [
            "/usr/local/lib/python3.9/dist-packages/disvoice/prosody/prosody_functions.py:210: RuntimeWarning: Precision loss occurred in moment calculation due to catastrophic cancellation. This occurs when the data are nearly identical. Results may be unreliable.\n",
            "  E0skw=st.skew(log_energy_contour)\n",
            "/usr/local/lib/python3.9/dist-packages/disvoice/prosody/prosody_functions.py:211: RuntimeWarning: Precision loss occurred in moment calculation due to catastrophic cancellation. This occurs when the data are nearly identical. Results may be unreliable.\n",
            "  E0ku=st.kurtosis(log_energy_contour)\n"
          ]
        },
        {
          "output_type": "stream",
          "name": "stdout",
          "text": [
            "processing file 3545_Interview_NormalText_08-14-20.wav\n",
            "processing file 3658_NormalText_4-9-2021.wav\n",
            "processing file 3610_NormalText_01-19-21.wav\n",
            "processing file 3715_NormalText_01-15-21.wav\n",
            "processing file 3773_Interview-ONLY_9-3-20.wav\n",
            "processing file 3703_NormalText_10-7-20.wav\n"
          ]
        },
        {
          "output_type": "stream",
          "name": "stderr",
          "text": [
            "/usr/local/lib/python3.9/dist-packages/disvoice/prosody/prosody_functions.py:210: RuntimeWarning: Precision loss occurred in moment calculation due to catastrophic cancellation. This occurs when the data are nearly identical. Results may be unreliable.\n",
            "  E0skw=st.skew(log_energy_contour)\n",
            "/usr/local/lib/python3.9/dist-packages/disvoice/prosody/prosody_functions.py:211: RuntimeWarning: Precision loss occurred in moment calculation due to catastrophic cancellation. This occurs when the data are nearly identical. Results may be unreliable.\n",
            "  E0ku=st.kurtosis(log_energy_contour)\n"
          ]
        },
        {
          "output_type": "stream",
          "name": "stdout",
          "text": [
            "processing file 3692_NormalText_Interview_10-16-20.wav\n",
            "processing file 3700_NormalText_2-16-2021.wav\n",
            "processing file 3680_Consent_NormalText_Interview_10-05-20.wav\n",
            "processing file 3781_NormalText_10-21-20.wav\n",
            "processing file 3734_Interview_NormalText_10-09-20.wav\n",
            "processing file 3766_NormalText_8-3-20.wav\n",
            "processing file 3724_NormalText_7-30-20.wav\n",
            "processing file 3735_NormalText_8-28-20.wav\n"
          ]
        },
        {
          "output_type": "stream",
          "name": "stderr",
          "text": [
            "/usr/local/lib/python3.9/dist-packages/disvoice/prosody/prosody_functions.py:229: RuntimeWarning: Precision loss occurred in moment calculation due to catastrophic cancellation. This occurs when the data are nearly identical. Results may be unreliable.\n",
            "  Elskw=st.skew(log_energy_contour)\n",
            "/usr/local/lib/python3.9/dist-packages/disvoice/prosody/prosody_functions.py:230: RuntimeWarning: Precision loss occurred in moment calculation due to catastrophic cancellation. This occurs when the data are nearly identical. Results may be unreliable.\n",
            "  Elku=st.kurtosis(log_energy_contour)\n"
          ]
        },
        {
          "output_type": "stream",
          "name": "stdout",
          "text": [
            "processing file 3747_Interview_NormalText_11-13-20.wav\n",
            "processing file 3765_NormalText_8-3-20.wav\n",
            "processing file 3758_NormalText_8-11-20.wav\n",
            "processing file 3716_NormalText_1-14-21.wav\n",
            "processing file 3769_NormalText_8-18-20.wav\n",
            "processing file 3744_Consent_NormalText_Interview_10-09-20.wav\n",
            "processing file 3718_Consent_Interview_NormalText_10-12-20.wav\n"
          ]
        },
        {
          "output_type": "stream",
          "name": "stderr",
          "text": [
            "/usr/local/lib/python3.9/dist-packages/disvoice/prosody/prosody_functions.py:210: RuntimeWarning: Precision loss occurred in moment calculation due to catastrophic cancellation. This occurs when the data are nearly identical. Results may be unreliable.\n",
            "  E0skw=st.skew(log_energy_contour)\n",
            "/usr/local/lib/python3.9/dist-packages/disvoice/prosody/prosody_functions.py:211: RuntimeWarning: Precision loss occurred in moment calculation due to catastrophic cancellation. This occurs when the data are nearly identical. Results may be unreliable.\n",
            "  E0ku=st.kurtosis(log_energy_contour)\n",
            "/usr/local/lib/python3.9/dist-packages/disvoice/prosody/prosody_functions.py:210: RuntimeWarning: Precision loss occurred in moment calculation due to catastrophic cancellation. This occurs when the data are nearly identical. Results may be unreliable.\n",
            "  E0skw=st.skew(log_energy_contour)\n",
            "/usr/local/lib/python3.9/dist-packages/disvoice/prosody/prosody_functions.py:211: RuntimeWarning: Precision loss occurred in moment calculation due to catastrophic cancellation. This occurs when the data are nearly identical. Results may be unreliable.\n",
            "  E0ku=st.kurtosis(log_energy_contour)\n"
          ]
        },
        {
          "output_type": "stream",
          "name": "stdout",
          "text": [
            "processing file 3746_NormalText_11-13-20.wav\n",
            "processing file 3763_NormalText_8-11-20.wav\n",
            "processing file 3714_Consent_Interview_NormalText_7-24-20.wav\n",
            "processing file 3768_NormalText_8-21-20.wav\n",
            "processing file 3760_NormalText_12-14-2020.wav\n"
          ]
        },
        {
          "output_type": "stream",
          "name": "stderr",
          "text": [
            "/usr/local/lib/python3.9/dist-packages/disvoice/prosody/prosody_functions.py:210: RuntimeWarning: Precision loss occurred in moment calculation due to catastrophic cancellation. This occurs when the data are nearly identical. Results may be unreliable.\n",
            "  E0skw=st.skew(log_energy_contour)\n",
            "/usr/local/lib/python3.9/dist-packages/disvoice/prosody/prosody_functions.py:211: RuntimeWarning: Precision loss occurred in moment calculation due to catastrophic cancellation. This occurs when the data are nearly identical. Results may be unreliable.\n",
            "  E0ku=st.kurtosis(log_energy_contour)\n"
          ]
        },
        {
          "output_type": "stream",
          "name": "stdout",
          "text": [
            "processing file 3688_NormalText_10-13-20.wav\n",
            "processing file 3731_NormalText_03-01-21.wav\n"
          ]
        },
        {
          "output_type": "stream",
          "name": "stderr",
          "text": [
            "/usr/local/lib/python3.9/dist-packages/disvoice/prosody/prosody_functions.py:63: RuntimeWarning: Precision loss occurred in moment calculation due to catastrophic cancellation. This occurs when the data are nearly identical. Results may be unreliable.\n",
            "  f0lskw=st.skew(F0nzlist[-1])\n",
            "/usr/local/lib/python3.9/dist-packages/disvoice/prosody/prosody_functions.py:64: RuntimeWarning: Precision loss occurred in moment calculation due to catastrophic cancellation. This occurs when the data are nearly identical. Results may be unreliable.\n",
            "  f0lku=st.kurtosis(F0nzlist[-1])\n"
          ]
        },
        {
          "output_type": "stream",
          "name": "stdout",
          "text": [
            "processing file 3745_NormalText_7-28-20.wav\n",
            "processing file 3721_NormalText_02-08-21.wav\n",
            "processing file 3738_NormalText_8-5-20.wav\n"
          ]
        },
        {
          "output_type": "stream",
          "name": "stderr",
          "text": [
            "/usr/local/lib/python3.9/dist-packages/disvoice/prosody/prosody_functions.py:210: RuntimeWarning: Precision loss occurred in moment calculation due to catastrophic cancellation. This occurs when the data are nearly identical. Results may be unreliable.\n",
            "  E0skw=st.skew(log_energy_contour)\n",
            "/usr/local/lib/python3.9/dist-packages/disvoice/prosody/prosody_functions.py:211: RuntimeWarning: Precision loss occurred in moment calculation due to catastrophic cancellation. This occurs when the data are nearly identical. Results may be unreliable.\n",
            "  E0ku=st.kurtosis(log_energy_contour)\n"
          ]
        },
        {
          "output_type": "stream",
          "name": "stdout",
          "text": [
            "processing file 3774_NormalText_9-14-20.wav\n",
            "processing file 3722_NormalText_3-1-2021.wav\n",
            "processing file 3803_Consent_Interview_NormalText_1-8-21.wav\n",
            "processing file 3784_NormalText_Interview_09-18-20.wav\n"
          ]
        },
        {
          "output_type": "stream",
          "name": "stderr",
          "text": [
            "/usr/local/lib/python3.9/dist-packages/disvoice/prosody/prosody_functions.py:229: RuntimeWarning: Precision loss occurred in moment calculation due to catastrophic cancellation. This occurs when the data are nearly identical. Results may be unreliable.\n",
            "  Elskw=st.skew(log_energy_contour)\n",
            "/usr/local/lib/python3.9/dist-packages/disvoice/prosody/prosody_functions.py:230: RuntimeWarning: Precision loss occurred in moment calculation due to catastrophic cancellation. This occurs when the data are nearly identical. Results may be unreliable.\n",
            "  Elku=st.kurtosis(log_energy_contour)\n"
          ]
        },
        {
          "output_type": "stream",
          "name": "stdout",
          "text": [
            "processing file 8218_NormalText_7-23-20.wav\n",
            "processing file 3795_NormalText_11-17-20.wav\n"
          ]
        },
        {
          "output_type": "stream",
          "name": "stderr",
          "text": [
            "/usr/local/lib/python3.9/dist-packages/disvoice/prosody/prosody_functions.py:229: RuntimeWarning: Precision loss occurred in moment calculation due to catastrophic cancellation. This occurs when the data are nearly identical. Results may be unreliable.\n",
            "  Elskw=st.skew(log_energy_contour)\n",
            "/usr/local/lib/python3.9/dist-packages/disvoice/prosody/prosody_functions.py:230: RuntimeWarning: Precision loss occurred in moment calculation due to catastrophic cancellation. This occurs when the data are nearly identical. Results may be unreliable.\n",
            "  Elku=st.kurtosis(log_energy_contour)\n"
          ]
        },
        {
          "output_type": "stream",
          "name": "stdout",
          "text": [
            "processing file 8264_NormalText_9-17-20.wav\n",
            "processing file 3811_NormalText_03-05-21.wav\n"
          ]
        },
        {
          "output_type": "stream",
          "name": "stderr",
          "text": [
            "/usr/local/lib/python3.9/dist-packages/disvoice/prosody/prosody_functions.py:210: RuntimeWarning: Precision loss occurred in moment calculation due to catastrophic cancellation. This occurs when the data are nearly identical. Results may be unreliable.\n",
            "  E0skw=st.skew(log_energy_contour)\n",
            "/usr/local/lib/python3.9/dist-packages/disvoice/prosody/prosody_functions.py:211: RuntimeWarning: Precision loss occurred in moment calculation due to catastrophic cancellation. This occurs when the data are nearly identical. Results may be unreliable.\n",
            "  E0ku=st.kurtosis(log_energy_contour)\n"
          ]
        },
        {
          "output_type": "stream",
          "name": "stdout",
          "text": [
            "processing file 3797_NormalText_11-19-20.wav\n",
            "processing file 3799_Consent_Interview_NormalText_11-20-20.wav\n",
            "processing file 3801_NormalText_1-22-2021.wav\n",
            "processing file 3816_Consent_Interview_NormalText_09-25-20.wav\n",
            "processing file 3798_NormalText_11-20-20.wav\n"
          ]
        },
        {
          "output_type": "stream",
          "name": "stderr",
          "text": [
            "/usr/local/lib/python3.9/dist-packages/disvoice/prosody/prosody_functions.py:210: RuntimeWarning: Precision loss occurred in moment calculation due to catastrophic cancellation. This occurs when the data are nearly identical. Results may be unreliable.\n",
            "  E0skw=st.skew(log_energy_contour)\n",
            "/usr/local/lib/python3.9/dist-packages/disvoice/prosody/prosody_functions.py:211: RuntimeWarning: Precision loss occurred in moment calculation due to catastrophic cancellation. This occurs when the data are nearly identical. Results may be unreliable.\n",
            "  E0ku=st.kurtosis(log_energy_contour)\n"
          ]
        },
        {
          "output_type": "stream",
          "name": "stdout",
          "text": [
            "processing file 3807_NormalText_11-20-2020.wav\n",
            "processing file 3838_NormalText_7-30-20.wav\n",
            "processing file 3823_NormalText_10-20-2020.wav\n",
            "processing file 3802_NormalText_11-18-20.wav\n",
            "processing file 3851_NormalText_01-22-21.wav\n"
          ]
        },
        {
          "output_type": "stream",
          "name": "stderr",
          "text": [
            "/usr/local/lib/python3.9/dist-packages/disvoice/prosody/prosody_functions.py:210: RuntimeWarning: Precision loss occurred in moment calculation due to catastrophic cancellation. This occurs when the data are nearly identical. Results may be unreliable.\n",
            "  E0skw=st.skew(log_energy_contour)\n",
            "/usr/local/lib/python3.9/dist-packages/disvoice/prosody/prosody_functions.py:211: RuntimeWarning: Precision loss occurred in moment calculation due to catastrophic cancellation. This occurs when the data are nearly identical. Results may be unreliable.\n",
            "  E0ku=st.kurtosis(log_energy_contour)\n"
          ]
        },
        {
          "output_type": "stream",
          "name": "stdout",
          "text": [
            "processing file 3820_Interview_NormalText_11-11-20.wav\n",
            "processing file 8207_NormalText_10-05-20.wav\n"
          ]
        },
        {
          "output_type": "error",
          "ename": "NameError",
          "evalue": "ignored",
          "traceback": [
            "\u001b[0;31m---------------------------------------------------------------------------\u001b[0m",
            "\u001b[0;31mNameError\u001b[0m                                 Traceback (most recent call last)",
            "\u001b[0;32m<ipython-input-9-3e81cc707258>\u001b[0m in \u001b[0;36m<module>\u001b[0;34m\u001b[0m\n\u001b[1;32m     84\u001b[0m         \u001b[0;31m#   df=df2\u001b[0m\u001b[0;34m\u001b[0m\u001b[0;34m\u001b[0m\u001b[0m\n\u001b[1;32m     85\u001b[0m \u001b[0;34m\u001b[0m\u001b[0m\n\u001b[0;32m---> 86\u001b[0;31m   \u001b[0msave_file\u001b[0m\u001b[0;34m(\u001b[0m\u001b[0maudio\u001b[0m\u001b[0;34m,\u001b[0m\u001b[0;34m'adrc_audio_'\u001b[0m\u001b[0;34m+\u001b[0m\u001b[0mstr\u001b[0m\u001b[0;34m(\u001b[0m\u001b[0;34m'test'\u001b[0m\u001b[0;34m)\u001b[0m\u001b[0;34m)\u001b[0m\u001b[0;34m\u001b[0m\u001b[0;34m\u001b[0m\u001b[0m\n\u001b[0m\u001b[1;32m     87\u001b[0m \u001b[0;34m\u001b[0m\u001b[0m\n\u001b[1;32m     88\u001b[0m \u001b[0;31m# include=set(df8['filename'])-set(audio['filename'])\u001b[0m\u001b[0;34m\u001b[0m\u001b[0;34m\u001b[0m\u001b[0m\n",
            "\u001b[0;31mNameError\u001b[0m: name 'save_file' is not defined"
          ]
        }
      ]
    },
    {
      "cell_type": "markdown",
      "source": [
        "# **EXTRACT REPRESENTATION FEAT.**"
      ],
      "metadata": {
        "id": "o0LSyamGoWd2"
      }
    },
    {
      "cell_type": "code",
      "source": [
        "from replearning import RepLearning\n",
        "replearning=RepLearning('RAE')\n",
        "import os\n",
        "import pandas as pd\n",
        "path = \"wavfiles/adrc/\"\n",
        "\n",
        "for folder in ['']:\n",
        "  audio=None\n",
        "  for (root, dirs, file) in os.walk(path+folder+\"/\"):\n",
        "    for filename in file:\n",
        "      if not filename.endswith('.wav'):\n",
        "        continue\n",
        "      # print('hi')\n",
        "\n",
        "      # if filename.split('.')[0] not in include:\n",
        "        # continue\n",
        "\n",
        "\n",
        "      name=filename.split('.')[0]\n",
        "\n",
        "\n",
        "\n",
        "\n",
        "\n",
        "      print('processing file %s'%(filename))\n",
        "\n",
        "\n",
        "\n",
        "\n",
        "      # prosodyf=Prosody()\n",
        "      features1=replearning.extract_features_file(path+folder+\"/\"+filename, static=True, plots=True, fmt=\"csv\")\n",
        "\n",
        "      # save_file(pd.DataFrame(features1),'ccc_indiv_'+name)\n",
        "\n",
        "      df1=pd.DataFrame(features1)\n",
        "      df1['filename']=name\n",
        "      # print(len(audio))\n",
        "      if audio is not None:\n",
        "        audio_new=pd.concat([audio,features1])\n",
        "        audio=audio_new\n",
        "      else:\n",
        "        audio=df1\n",
        "\n",
        "\n",
        "  save_file(audio,'adrc_rep_'+str('test'))"
      ],
      "metadata": {
        "id": "sHXQUZQroVXe"
      },
      "execution_count": null,
      "outputs": []
    },
    {
      "cell_type": "markdown",
      "source": [
        "# **EXTRACT PHONATION FEATURES**"
      ],
      "metadata": {
        "id": "hcBcA9SD9Djo"
      }
    },
    {
      "cell_type": "code",
      "source": [
        "import os\n",
        "import pandas as pd\n",
        "from phonation import Phonation\n",
        "path = \"wavfiles/adrc/\"\n",
        "phonation=Phonation()\n",
        "for folder in ['']:\n",
        "  audio=None\n",
        "  for (root, dirs, file) in os.walk(path+folder+\"/\"):\n",
        "    for filename in file:\n",
        "      if not filename.endswith('.wav'):\n",
        "        continue\n",
        "      # print('hi')\n",
        "\n",
        "      # if filename.split('.')[0] not in include:\n",
        "        # continue\n",
        "\n",
        "\n",
        "      name=filename.split('.')[0]\n",
        "\n",
        "\n",
        "\n",
        "\n",
        "\n",
        "      print('processing file %s'%(filename))\n",
        "\n",
        "\n",
        "\n",
        "\n",
        "      # prosodyf=Prosody()\n",
        "\n",
        "\n",
        "\n",
        "    features1=phonation.extract_features_file(path+folder+\"/\"+filename, static=True, plots=True, fmt=\"CSV\")\n",
        "\n",
        "      # save_file(pd.DataFrame(features1),'ccc_indiv_'+name)\n",
        "\n",
        "      df1=pd.DataFrame(features1)\n",
        "      df1['filename']=name\n",
        "      # print(len(audio))\n",
        "      if audio is not None:\n",
        "        audio_new=pd.concat([audio,features1])\n",
        "        audio=audio_new\n",
        "      else:\n",
        "        audio=df1\n",
        "\n",
        "\n",
        "  save_file(audio,'adrc_phonation_'+str('test'))"
      ],
      "metadata": {
        "id": "a_BI4x2Z9ERZ"
      },
      "execution_count": null,
      "outputs": []
    },
    {
      "cell_type": "code",
      "source": [
        "  save_file(audio,'adrc_audio_'+str('test'))\n"
      ],
      "metadata": {
        "id": "HgXIsMDAI3Ww",
        "outputId": "afd9f79a-ad0f-406a-8c9e-2cd595d2f428",
        "colab": {
          "base_uri": "https://localhost:8080/"
        }
      },
      "execution_count": null,
      "outputs": [
        {
          "output_type": "stream",
          "name": "stdout",
          "text": [
            "done\n"
          ]
        }
      ]
    },
    {
      "cell_type": "code",
      "source": [
        "  save_file(audio,'madress_audio_'+str('test'))\n"
      ],
      "metadata": {
        "id": "D-JDQx19Z7-r",
        "outputId": "d717cb96-d052-4233-ddce-e4d5632773a1",
        "colab": {
          "base_uri": "https://localhost:8080/"
        }
      },
      "execution_count": null,
      "outputs": [
        {
          "output_type": "stream",
          "name": "stdout",
          "text": [
            "done\n"
          ]
        }
      ]
    },
    {
      "cell_type": "code",
      "source": [
        "audio.to_csv( path+\"ccc_audio\" + '.csv')\n"
      ],
      "metadata": {
        "id": "VlS2Pvp_xkch"
      },
      "execution_count": null,
      "outputs": []
    },
    {
      "cell_type": "code",
      "source": [
        "print(len(audio))\n",
        "print(len(list(include)))"
      ],
      "metadata": {
        "colab": {
          "base_uri": "https://localhost:8080/"
        },
        "id": "ICioWnKNE1uW",
        "outputId": "d9d596ce-87dd-4cce-a600-fbe344de5465"
      },
      "execution_count": null,
      "outputs": [
        {
          "output_type": "stream",
          "name": "stdout",
          "text": [
            "227\n",
            "81\n"
          ]
        }
      ]
    },
    {
      "cell_type": "code",
      "source": [
        "\n",
        "wav_include=pd.read_csv('wav_include.csv')\n",
        "for filename in wav_include['filename'].values.tolist():\n",
        "  try:\n",
        "\n",
        "    name=filename\n",
        "    file_audio=\"wavfiles/ccc/\"+name+\".wav\"\n",
        "\n",
        "    prosodyf=Prosody()\n",
        "\n",
        "    features1=prosodyf.extract_features_file(file_audio, static=True, plots=False, fmt=\"csv\")\n",
        "    print(features1.shape)\n",
        "    df1=pd.DataFrame(features1)\n",
        "    features1['filename']=name\n",
        "    # save_file(df1,'ccc_audio_indiv_'+name)\n",
        "    break\n",
        "  except:\n",
        "    print('filename exception')\n",
        "    print(name)\n"
      ],
      "metadata": {
        "colab": {
          "base_uri": "https://localhost:8080/"
        },
        "outputId": "738b9ba8-8511-4d6a-8ec8-f5ed98dc9dab",
        "id": "QgmFsualH7h6"
      },
      "execution_count": null,
      "outputs": [
        {
          "output_type": "stream",
          "name": "stderr",
          "text": [
            "/usr/local/lib/python3.8/dist-packages/numpy/core/fromnumeric.py:3440: RuntimeWarning: Mean of empty slice.\n",
            "  return _methods._mean(a, axis=axis, dtype=dtype,\n",
            "/usr/local/lib/python3.8/dist-packages/numpy/core/_methods.py:189: RuntimeWarning: invalid value encountered in double_scalars\n",
            "  ret = ret.dtype.type(ret / rcount)\n"
          ]
        },
        {
          "output_type": "stream",
          "name": "stdout",
          "text": [
            "filename exception\n",
            "Walton_Caldw_001\n",
            "filename exception\n",
            "Walton_Dingl_001\n",
            "(1, 103)\n"
          ]
        }
      ]
    },
    {
      "cell_type": "code",
      "source": [
        "df1=pd.DataFrame(features1)\n",
        "features1['filename']=name\n",
        "save_file(df1,'ccc_audio_'+name)\n"
      ],
      "metadata": {
        "colab": {
          "base_uri": "https://localhost:8080/"
        },
        "id": "QuSV9XtwJoll",
        "outputId": "834589fc-85ff-4d21-bf4c-2feabc129596"
      },
      "execution_count": null,
      "outputs": [
        {
          "output_type": "stream",
          "name": "stdout",
          "text": [
            "done\n"
          ]
        }
      ]
    }
  ]
}